{
 "cells": [
  {
   "cell_type": "markdown",
   "metadata": {},
   "source": [
    "- https://www.nltk.org/howto/wordnet.html WordNet examples"
   ]
  },
  {
   "cell_type": "code",
   "execution_count": 258,
   "metadata": {},
   "outputs": [],
   "source": [
    "from nltk.corpus import wordnet as wn"
   ]
  },
  {
   "cell_type": "markdown",
   "metadata": {},
   "source": [
    "### Utilities"
   ]
  },
  {
   "cell_type": "code",
   "execution_count": 270,
   "metadata": {},
   "outputs": [],
   "source": [
    "def get_synsets(word):\n",
    "    return wn.synsets(word)\n",
    "\n",
    "def lowest_common_subsumer(syn1, syn2):\n",
    "    return syn1.lowest_common_hypernyms(syn2)[0] if syn1.lowest_common_hypernyms(syn2) else None\n",
    "\n",
    "def lowest_common_subsumer_implementation(syn1, syn2):\n",
    "    # risale la gerarchia degli iperonimi, scegliendo sempre e solo il primo synset percjè non ho un PC non della NASA\n",
    "    path = 1\n",
    "    hypernyms_1 = syn1.hypernyms()\n",
    "    hypernyms_2 = syn2.hypernyms()\n",
    "\n",
    "    while True:\n",
    "        for hyper in hypernyms_1:\n",
    "            if hyper in hypernyms_2 or not hypernyms_1 or not hypernyms_2:\n",
    "                return hyper\n",
    "        \n",
    "        hypernyms_1 = hypernyms_1[0].hypernyms()\n",
    "        hypernyms_2 = hypernyms_2[0].hypernyms()\n",
    "        path += 1\n",
    "\n",
    "def depth(syn):\n",
    "    return syn.min_depth() if syn else 0"
   ]
  },
  {
   "cell_type": "code",
   "execution_count": 279,
   "metadata": {},
   "outputs": [
    {
     "name": "stdout",
     "output_type": "stream",
     "text": [
      "Synset('entity.n.01')\n"
     ]
    }
   ],
   "source": [
    "#print(lowest_common_subsumer_implementation(wn.synset('car.n.01'), wn.synset('dog.n.01')))\n",
    "print(wn.synset('sex.n.04').hypernyms()[0].hypernyms()[0].hypernyms()[0].hypernyms()[0].hypernyms()[0].hypernyms()[0])"
   ]
  },
  {
   "cell_type": "markdown",
   "metadata": {},
   "source": [
    "### Wu & Palmer"
   ]
  },
  {
   "cell_type": "code",
   "execution_count": 264,
   "metadata": {},
   "outputs": [],
   "source": [
    "def wu_palmer(syn1, syn2):\n",
    "    dep = 0\n",
    "\n",
    "    lcs = lowest_common_subsumer_implementation(syn1, syn2)\n",
    "    dep = (depth(syn1) + depth(syn2))\n",
    "    \n",
    "    if dep == 0:\n",
    "        dep = 0.001\n",
    "        \n",
    "    return 2 * depth(lcs) / dep"
   ]
  },
  {
   "cell_type": "markdown",
   "metadata": {},
   "source": [
    "### Execution"
   ]
  },
  {
   "cell_type": "code",
   "execution_count": 271,
   "metadata": {},
   "outputs": [
    {
     "name": "stdout",
     "output_type": "stream",
     "text": [
      "Synset('love.n.01') Synset('sexual_activity.n.01')\n",
      "0.0\n",
      "Synset('love.n.01') Synset('sex.n.02')\n",
      "0.0\n",
      "Synset('love.n.01') Synset('sex.n.03')\n",
      "0.0\n",
      "Synset('love.n.01') Synset('sex.n.04')\n",
      "0.3333333333333333\n",
      "Synset('love.n.01') Synset('arouse.v.07')\n",
      "0.4444444444444444\n",
      "Synset('love.n.01') Synset('sex.v.02')\n",
      "0.4444444444444444\n",
      "\n",
      "\n",
      "Synset('love.n.02') Synset('sexual_activity.n.01')\n",
      "0.0\n",
      "Synset('love.n.02') Synset('sex.n.02')\n",
      "0.0\n",
      "Synset('love.n.02') Synset('sex.n.03')\n",
      "0.0\n",
      "Synset('love.n.02') Synset('sex.n.04')\n",
      "0.16666666666666666\n",
      "Synset('love.n.02') Synset('arouse.v.07')\n",
      "0.4444444444444444\n",
      "Synset('love.n.02') Synset('sex.v.02')\n",
      "0.4444444444444444\n",
      "\n",
      "\n",
      "Synset('beloved.n.01') Synset('sexual_activity.n.01')\n",
      "0.2\n",
      "Synset('beloved.n.01') Synset('sex.n.02')\n",
      "0.0\n",
      "Synset('beloved.n.01') Synset('sex.n.03')\n",
      "0.0\n",
      "Synset('beloved.n.01') Synset('sex.n.04')\n"
     ]
    },
    {
     "ename": "IndexError",
     "evalue": "list index out of range",
     "output_type": "error",
     "traceback": [
      "\u001b[1;31m---------------------------------------------------------------------------\u001b[0m",
      "\u001b[1;31mIndexError\u001b[0m                                Traceback (most recent call last)",
      "\u001b[1;32mc:\\Users\\andre\\Desktop\\Università\\Magistrale\\TLN\\TLN-LAB\\nlp-UniTO-2021-22\\Radicioni\\es1_conceptualSimilarity\\andrea_concept_similarity.ipynb Cella 9\u001b[0m in \u001b[0;36m<cell line: 18>\u001b[1;34m()\u001b[0m\n\u001b[0;32m     <a href='vscode-notebook-cell:/c%3A/Users/andre/Desktop/Universit%C3%A0/Magistrale/TLN/TLN-LAB/nlp-UniTO-2021-22/Radicioni/es1_conceptualSimilarity/andrea_concept_similarity.ipynb#X11sZmlsZQ%3D%3D?line=19'>20</a>\u001b[0m \u001b[39mfor\u001b[39;00m k \u001b[39min\u001b[39;00m \u001b[39mrange\u001b[39m(\u001b[39mlen\u001b[39m(syns_2[i])):\n\u001b[0;32m     <a href='vscode-notebook-cell:/c%3A/Users/andre/Desktop/Universit%C3%A0/Magistrale/TLN/TLN-LAB/nlp-UniTO-2021-22/Radicioni/es1_conceptualSimilarity/andrea_concept_similarity.ipynb#X11sZmlsZQ%3D%3D?line=20'>21</a>\u001b[0m     \u001b[39mprint\u001b[39m(syns_1[i][j], syns_2[i][k])\n\u001b[1;32m---> <a href='vscode-notebook-cell:/c%3A/Users/andre/Desktop/Universit%C3%A0/Magistrale/TLN/TLN-LAB/nlp-UniTO-2021-22/Radicioni/es1_conceptualSimilarity/andrea_concept_similarity.ipynb#X11sZmlsZQ%3D%3D?line=21'>22</a>\u001b[0m     \u001b[39mprint\u001b[39m(wu_palmer(syns_1[i][j], syns_2[i][k]))\n\u001b[0;32m     <a href='vscode-notebook-cell:/c%3A/Users/andre/Desktop/Universit%C3%A0/Magistrale/TLN/TLN-LAB/nlp-UniTO-2021-22/Radicioni/es1_conceptualSimilarity/andrea_concept_similarity.ipynb#X11sZmlsZQ%3D%3D?line=22'>23</a>\u001b[0m     \u001b[39mif\u001b[39;00m wu_palmer(syns_1[i][j], syns_2[i][k]) \u001b[39m>\u001b[39m \u001b[39mfloat\u001b[39m(\u001b[39mmax\u001b[39m):\n\u001b[0;32m     <a href='vscode-notebook-cell:/c%3A/Users/andre/Desktop/Universit%C3%A0/Magistrale/TLN/TLN-LAB/nlp-UniTO-2021-22/Radicioni/es1_conceptualSimilarity/andrea_concept_similarity.ipynb#X11sZmlsZQ%3D%3D?line=23'>24</a>\u001b[0m         \u001b[39mmax\u001b[39m \u001b[39m=\u001b[39m wu_palmer(syns_1[i][j], syns_2[i][k])\n",
      "\u001b[1;32mc:\\Users\\andre\\Desktop\\Università\\Magistrale\\TLN\\TLN-LAB\\nlp-UniTO-2021-22\\Radicioni\\es1_conceptualSimilarity\\andrea_concept_similarity.ipynb Cella 9\u001b[0m in \u001b[0;36mwu_palmer\u001b[1;34m(syn1, syn2)\u001b[0m\n\u001b[0;32m      <a href='vscode-notebook-cell:/c%3A/Users/andre/Desktop/Universit%C3%A0/Magistrale/TLN/TLN-LAB/nlp-UniTO-2021-22/Radicioni/es1_conceptualSimilarity/andrea_concept_similarity.ipynb#X11sZmlsZQ%3D%3D?line=0'>1</a>\u001b[0m \u001b[39mdef\u001b[39;00m \u001b[39mwu_palmer\u001b[39m(syn1, syn2):\n\u001b[0;32m      <a href='vscode-notebook-cell:/c%3A/Users/andre/Desktop/Universit%C3%A0/Magistrale/TLN/TLN-LAB/nlp-UniTO-2021-22/Radicioni/es1_conceptualSimilarity/andrea_concept_similarity.ipynb#X11sZmlsZQ%3D%3D?line=1'>2</a>\u001b[0m     dep \u001b[39m=\u001b[39m \u001b[39m0\u001b[39m\n\u001b[1;32m----> <a href='vscode-notebook-cell:/c%3A/Users/andre/Desktop/Universit%C3%A0/Magistrale/TLN/TLN-LAB/nlp-UniTO-2021-22/Radicioni/es1_conceptualSimilarity/andrea_concept_similarity.ipynb#X11sZmlsZQ%3D%3D?line=3'>4</a>\u001b[0m     lcs \u001b[39m=\u001b[39m lowest_common_subsumer_implementation(syn1, syn2)\n\u001b[0;32m      <a href='vscode-notebook-cell:/c%3A/Users/andre/Desktop/Universit%C3%A0/Magistrale/TLN/TLN-LAB/nlp-UniTO-2021-22/Radicioni/es1_conceptualSimilarity/andrea_concept_similarity.ipynb#X11sZmlsZQ%3D%3D?line=4'>5</a>\u001b[0m     dep \u001b[39m=\u001b[39m (depth(syn1) \u001b[39m+\u001b[39m depth(syn2))\n\u001b[0;32m      <a href='vscode-notebook-cell:/c%3A/Users/andre/Desktop/Universit%C3%A0/Magistrale/TLN/TLN-LAB/nlp-UniTO-2021-22/Radicioni/es1_conceptualSimilarity/andrea_concept_similarity.ipynb#X11sZmlsZQ%3D%3D?line=6'>7</a>\u001b[0m     \u001b[39mif\u001b[39;00m dep \u001b[39m==\u001b[39m \u001b[39m0\u001b[39m:\n",
      "\u001b[1;32mc:\\Users\\andre\\Desktop\\Università\\Magistrale\\TLN\\TLN-LAB\\nlp-UniTO-2021-22\\Radicioni\\es1_conceptualSimilarity\\andrea_concept_similarity.ipynb Cella 9\u001b[0m in \u001b[0;36mlowest_common_subsumer_implementation\u001b[1;34m(syn1, syn2)\u001b[0m\n\u001b[0;32m     <a href='vscode-notebook-cell:/c%3A/Users/andre/Desktop/Universit%C3%A0/Magistrale/TLN/TLN-LAB/nlp-UniTO-2021-22/Radicioni/es1_conceptualSimilarity/andrea_concept_similarity.ipynb#X11sZmlsZQ%3D%3D?line=14'>15</a>\u001b[0m     \u001b[39mif\u001b[39;00m hyper \u001b[39min\u001b[39;00m hypernyms_2 \u001b[39mor\u001b[39;00m \u001b[39mnot\u001b[39;00m hypernyms_1 \u001b[39mor\u001b[39;00m \u001b[39mnot\u001b[39;00m hypernyms_2:\n\u001b[0;32m     <a href='vscode-notebook-cell:/c%3A/Users/andre/Desktop/Universit%C3%A0/Magistrale/TLN/TLN-LAB/nlp-UniTO-2021-22/Radicioni/es1_conceptualSimilarity/andrea_concept_similarity.ipynb#X11sZmlsZQ%3D%3D?line=15'>16</a>\u001b[0m         \u001b[39mreturn\u001b[39;00m hyper\n\u001b[1;32m---> <a href='vscode-notebook-cell:/c%3A/Users/andre/Desktop/Universit%C3%A0/Magistrale/TLN/TLN-LAB/nlp-UniTO-2021-22/Radicioni/es1_conceptualSimilarity/andrea_concept_similarity.ipynb#X11sZmlsZQ%3D%3D?line=17'>18</a>\u001b[0m hypernyms_1 \u001b[39m=\u001b[39m hypernyms_1[\u001b[39m0\u001b[39;49m]\u001b[39m.\u001b[39mhypernyms()\n\u001b[0;32m     <a href='vscode-notebook-cell:/c%3A/Users/andre/Desktop/Universit%C3%A0/Magistrale/TLN/TLN-LAB/nlp-UniTO-2021-22/Radicioni/es1_conceptualSimilarity/andrea_concept_similarity.ipynb#X11sZmlsZQ%3D%3D?line=18'>19</a>\u001b[0m hypernyms_2 \u001b[39m=\u001b[39m hypernyms_2[\u001b[39m0\u001b[39m]\u001b[39m.\u001b[39mhypernyms()\n\u001b[0;32m     <a href='vscode-notebook-cell:/c%3A/Users/andre/Desktop/Universit%C3%A0/Magistrale/TLN/TLN-LAB/nlp-UniTO-2021-22/Radicioni/es1_conceptualSimilarity/andrea_concept_similarity.ipynb#X11sZmlsZQ%3D%3D?line=19'>20</a>\u001b[0m path \u001b[39m+\u001b[39m\u001b[39m=\u001b[39m \u001b[39m1\u001b[39m\n",
      "\u001b[1;31mIndexError\u001b[0m: list index out of range"
     ]
    }
   ],
   "source": [
    "dataset = []\n",
    "\n",
    "with open(r'C:\\Users\\andre\\Desktop\\Università\\Magistrale\\TLN\\TLN-LAB\\nlp-UniTO-2021-22\\Radicioni\\data\\WordSim353.csv', 'r') as f:\n",
    "    word_sim = f.readlines()[1:]\n",
    "    for tuple in word_sim:\n",
    "        dataset.append(tuple.split(','))\n",
    "\n",
    "syns_1 = []\n",
    "syns_2 = []\n",
    "\n",
    "for tuple in dataset:\n",
    "    syns_1.append(get_synsets(tuple[0]))\n",
    "    syns_2.append(get_synsets(tuple[1]))\n",
    "#pprint(syns_1)\n",
    "\n",
    "wp = []\n",
    "max = 0\n",
    "for i in range(len(syns_1)):\n",
    "    for j in range(len(syns_1[i])):\n",
    "        for k in range(len(syns_2[i])):\n",
    "            print(syns_1[i][j], syns_2[i][k])\n",
    "            print(wu_palmer(syns_1[i][j], syns_2[i][k]))\n",
    "            if wu_palmer(syns_1[i][j], syns_2[i][k]) > float(max):\n",
    "                max = wu_palmer(syns_1[i][j], syns_2[i][k])\n",
    "        print('\\n')\n",
    "    wp.append(max) \n",
    "    print('\\n\\n\\n\\n')\n",
    "print(wp)"
   ]
  }
 ],
 "metadata": {
  "kernelspec": {
   "display_name": "Python 3.10.4 64-bit",
   "language": "python",
   "name": "python3"
  },
  "language_info": {
   "codemirror_mode": {
    "name": "ipython",
    "version": 3
   },
   "file_extension": ".py",
   "mimetype": "text/x-python",
   "name": "python",
   "nbconvert_exporter": "python",
   "pygments_lexer": "ipython3",
   "version": "3.10.4"
  },
  "orig_nbformat": 4,
  "vscode": {
   "interpreter": {
    "hash": "6847c98a8f86b01c6a19c518cd2f366693b80566b266804d5ca763cbb223f52b"
   }
  }
 },
 "nbformat": 4,
 "nbformat_minor": 2
}
