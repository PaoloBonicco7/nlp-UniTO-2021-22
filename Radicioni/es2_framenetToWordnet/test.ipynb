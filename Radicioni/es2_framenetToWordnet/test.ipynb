{
 "cells": [
  {
   "cell_type": "code",
   "execution_count": 17,
   "metadata": {},
   "outputs": [
    {
     "name": "stdout",
     "output_type": "stream",
     "text": [
      "jot down.v: FN: write quickly on paper or other receptive medium.\n",
      "down.v\n",
      "[['write_down.v.01',\n",
      "  Synset('dash_down.v.01'),\n",
      "  Synset('notate.v.01'),\n",
      "  Synset('note.v.04'),\n",
      "  Synset('transcribe.v.01')],\n",
      " ['expense.v.01', 'For tax purposes you can write off the laser printer']]\n",
      "\n",
      "\n"
     ]
    }
   ],
   "source": [
    "import spacy\n",
    "from nltk.corpus import wordnet as wn\n",
    "from nltk.corpus import framenet as fn\n",
    "from pprint import pprint\n",
    "\n",
    "def print_definition(term, frame):\n",
    "    msg = term + \": \"\n",
    "    if term in frame.FE.keys():\n",
    "        msg += frame.FE[term].definition\n",
    "    elif term in frame.lexUnit.keys():\n",
    "        msg += frame.lexUnit[term].definition\n",
    "    elif term == frame.name:\n",
    "        msg += frame.definition\n",
    "    else: \n",
    "        return\n",
    "    print(msg)\n",
    "\n",
    "term = \"jot down.v\"\n",
    "frame = fn.frame(\"Text_creation\")\n",
    "nlp = spacy.load(\"en_core_web_sm\")\n",
    "doc = nlp(term)\n",
    "\n",
    "print_definition(term, frame)\n",
    "\n",
    "p = term.find('.')\n",
    "if p >= 0:\n",
    "    term = term[:p]\n",
    "\n",
    "for sent in doc.sents:\n",
    "    for token in sent:\n",
    "        if token.dep_ == \"ROOT\":\n",
    "            term = token.text\n",
    "\n",
    "res = []        \n",
    "synsets_of_term = list(wn.synsets('write_down'))\n",
    "\n",
    "for syns in synsets_of_term:\n",
    "    tmp = [syns.name()]\n",
    "    examples = syns.examples()\n",
    "    lemmas = syns.examples()\n",
    "    if not len(examples) == 0:\n",
    "        tmp.extend(examples)\n",
    "    elif not len(lemmas) <= 1:\n",
    "        tmp.extend(lemmas)\n",
    "    else:\n",
    "        tmp.extend(syns.hyponyms())\n",
    "\n",
    "    res.append(tmp)\n",
    "\n",
    "print(term)\n",
    "pprint(res)\n",
    "print(\"\\n\")\n"
   ]
  }
 ],
 "metadata": {
  "kernelspec": {
   "display_name": "Python 3.10.4 64-bit",
   "language": "python",
   "name": "python3"
  },
  "language_info": {
   "codemirror_mode": {
    "name": "ipython",
    "version": 3
   },
   "file_extension": ".py",
   "mimetype": "text/x-python",
   "name": "python",
   "nbconvert_exporter": "python",
   "pygments_lexer": "ipython3",
   "version": "3.10.4"
  },
  "orig_nbformat": 4,
  "vscode": {
   "interpreter": {
    "hash": "f51c5fe9e9a58efa1043b1548cfcb156c8f39c9e60365a17bc19defd3d30b528"
   }
  }
 },
 "nbformat": 4,
 "nbformat_minor": 2
}
