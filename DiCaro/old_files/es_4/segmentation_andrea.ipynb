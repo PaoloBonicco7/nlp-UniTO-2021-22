{
 "cells": [
  {
   "cell_type": "code",
   "execution_count": 107,
   "metadata": {},
   "outputs": [],
   "source": [
    "from nltk.corpus import stopwords\n",
    "from collections import defaultdict\n",
    "from collections import Counter\n",
    "from pprint import pprint"
   ]
  },
  {
   "cell_type": "code",
   "execution_count": 108,
   "metadata": {},
   "outputs": [],
   "source": [
    "def remove_stop_words_ita(phrase):\n",
    "    stop_words = stopwords.words('italian')\n",
    "    phrase = phrase.split()\n",
    "    phrase = [word for word in phrase if word not in stop_words]\n",
    "    return phrase"
   ]
  },
  {
   "cell_type": "code",
   "execution_count": 109,
   "metadata": {},
   "outputs": [],
   "source": [
    "def get_lines_matrix(path):\n",
    "    lines = []\n",
    "    with open(path) as file:\n",
    "        for line in file:\n",
    "            lines.append(remove_stop_words_ita(line.lower()))\n",
    "    return lines"
   ]
  },
  {
   "cell_type": "code",
   "execution_count": 110,
   "metadata": {},
   "outputs": [],
   "source": [
    "def overlap(line1, line2):\n",
    "    overlap_words = {}\n",
    "    for word1 in line1:\n",
    "        for word2 in line2:\n",
    "            if word1.lower() == word2.lower():\n",
    "                overlap_words[word1] = 0\n",
    "                for w1 in line1:\n",
    "                    if w1 == word1:\n",
    "                        overlap_words[word1] += 1\n",
    "                for w2 in line2:\n",
    "                    if w2 == word1:\n",
    "                        overlap_words[word1] += 1\n",
    "    return overlap_words"
   ]
  },
  {
   "cell_type": "code",
   "execution_count": 115,
   "metadata": {},
   "outputs": [],
   "source": [
    "def intersection(list1, list2):\n",
    "    return [value for value in list1 if value in list2]"
   ]
  },
  {
   "cell_type": "code",
   "execution_count": 116,
   "metadata": {},
   "outputs": [],
   "source": [
    "def print_overlaps(lines):\n",
    "    for i in range(len(lines)-1):\n",
    "        pprint(f\"OVERLAP tra riga {lines[i]} e {lines[i+1]}: {overlap(lines[i], lines[i+1])}\")"
   ]
  },
  {
   "cell_type": "code",
   "execution_count": 118,
   "metadata": {},
   "outputs": [
    {
     "name": "stdout",
     "output_type": "stream",
     "text": [
      "['gorilla', 'gorilla', 'abitanti', 'gorilla', 'pianura']\n"
     ]
    }
   ],
   "source": [
    "lines = get_lines_matrix(r\"C:\\Users\\andre\\Desktop\\Università\\Magistrale\\TLN\\PART 3\\tln-2022-third-part-lab\\segmentation.txt\")#\n",
    "#print(lines)\n",
    "#print_overlaps(lines)\n",
    "print(intersection(lines[17], lines[18]))"
   ]
  },
  {
   "cell_type": "markdown",
   "metadata": {},
   "source": []
  }
 ],
 "metadata": {
  "kernelspec": {
   "display_name": "Python 3.10.4 64-bit",
   "language": "python",
   "name": "python3"
  },
  "language_info": {
   "codemirror_mode": {
    "name": "ipython",
    "version": 3
   },
   "file_extension": ".py",
   "mimetype": "text/x-python",
   "name": "python",
   "nbconvert_exporter": "python",
   "pygments_lexer": "ipython3",
   "version": "3.10.4"
  },
  "orig_nbformat": 4,
  "vscode": {
   "interpreter": {
    "hash": "6847c98a8f86b01c6a19c518cd2f366693b80566b266804d5ca763cbb223f52b"
   }
  }
 },
 "nbformat": 4,
 "nbformat_minor": 2
}
