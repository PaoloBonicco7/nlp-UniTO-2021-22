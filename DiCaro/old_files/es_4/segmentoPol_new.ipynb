{
 "cells": [
  {
   "cell_type": "markdown",
   "metadata": {},
   "source": [
    "# Esercizio 4 - Segmentation"
   ]
  },
  {
   "cell_type": "markdown",
   "metadata": {},
   "source": [
    "## Approccio"
   ]
  },
  {
   "cell_type": "markdown",
   "metadata": {},
   "source": [
    "L'algoritmo è *brute force* perchè per trovare i tagli corretti li prova tutti generandoli in maniera randomica e associato ad ogni\n",
    "sequenza di tagli un punteggio. Il punteggio è calcolato come la somma degli n termini più frequnti all'interno di ogni segmento.\n",
    "\n",
    "L'idea alla base è che per ogni argomento ci siano un numero di parle che occorrono molte volte, e quindi l'algoritmo andrà a cercare \n",
    "i tagli che vanno a massimizzare questi valori, e che quindi vanno ad isolare i termini più frequenti per ogni segmento.\n",
    "\n",
    "L'algoritmo ha bisogno del numero di tagli in ingresso.\n",
    "\n",
    "- **COOCCORENCE** : In questo notebook corrispnde alla frequenza delle parole più utilizzate nel segmento"
   ]
  },
  {
   "cell_type": "markdown",
   "metadata": {},
   "source": [
    "## Datasets"
   ]
  },
  {
   "cell_type": "markdown",
   "metadata": {},
   "source": [
    "Abbiamo utilizzato due dataset diversi per testare l'algoritmo e scovarne i limiti.\n",
    "\n",
    "1. *data/segmentation_eng*: Il dataset è costituito da pezzi dei paragrafi di wikipedia di 4 argomenti diversi, in questo caso i 3 argomenti sono:\n",
    "      - Gorillas\n",
    "      - Quantum Computing\n",
    "      - Astronomy\n",
    "      - Kendrick Lamar Biography\n",
    "\n",
    "    I tagli corretti sono alla riga 59/60, alla riga 102/103 e alla riga 181/182.\n",
    "\n",
    "2. *data/segmentation_eng_sametopic* Il dataset sametopic presenta due argomenti molto simili, *astronomy* e *astrphysics*:\n",
    "      - Gorillas\n",
    "      - Astrophysics\n",
    "      - Quantum Computing\n",
    "      - Astronomy\n",
    "\n",
    "    I tagli corretti sono alla riga 59/60, alla riga 89/90 e alla riga 133/134.\n"
   ]
  },
  {
   "cell_type": "markdown",
   "metadata": {},
   "source": [
    "### Imports"
   ]
  },
  {
   "cell_type": "code",
   "execution_count": 6,
   "metadata": {},
   "outputs": [],
   "source": [
    "from nltk.corpus import stopwords\n",
    "from collections import Counter\n",
    "from gensim.test.utils import simple_preprocess\n",
    "from nltk.corpus import stopwords\n",
    "from nltk.tokenize import word_tokenize\n",
    "import random"
   ]
  },
  {
   "cell_type": "markdown",
   "metadata": {},
   "source": [
    "### Methods"
   ]
  },
  {
   "cell_type": "code",
   "execution_count": 7,
   "metadata": {},
   "outputs": [],
   "source": [
    "def remove_stop_words_ita(phrase):\n",
    "    stop_words = stopwords.words('italian')\n",
    "    phrase = phrase.split()\n",
    "    phrase = [word for word in phrase if word not in stop_words]\n",
    "    return phrase\n",
    "\n",
    "def get_text_from_file(path):\n",
    "    file = []\n",
    "    stop_words = set(stopwords.words('english'))\n",
    "    with open (path, 'r') as f:\n",
    "        for row in f:\n",
    "            filtered_s = [w for w in word_tokenize(row) if not w.lower() in stop_words]\n",
    "            file.append(simple_preprocess(str(filtered_s), deacc=True))\n",
    "    f.close()\n",
    "    return file\n",
    "\n",
    "def cooccurrence(text, n_most_words):\n",
    "    '''\n",
    "    Calculates the cooccurrence value of a sequence of words. \n",
    "    This value correspond to the sum of the occurrences of the n most frequently used words in the word list.\n",
    "    '''\n",
    "    score = 0\n",
    "    c = Counter()\n",
    "    most_common = []\n",
    "    for row in text:\n",
    "        c.update(row)\n",
    "        \n",
    "    most_common = c.most_common(n_most_words)\n",
    "    # print(most_common)\n",
    "    \n",
    "    for el in most_common:\n",
    "        score = score + el[1]\n",
    "        \n",
    "    return score\n",
    "\n",
    "def extract_segment(file, start, end):\n",
    "    '''\n",
    "    Given the first and the last line, extract the segment.\n",
    "    '''\n",
    "    segment = []\n",
    "    for i in range(start, end):\n",
    "        segment.append(file[i])\n",
    "    return segment\n",
    "\n",
    "def get_cuts(ntopic):\n",
    "    '''\n",
    "    Generate a list of random value between 1 and the number of lines in the documents,\n",
    "    that correspond to the cuts of the documents. The first value is 0 and the last is\n",
    "    the numebers of lines in the documents.\n",
    "    '''\n",
    "    cut = [0] * ntopic\n",
    "    while not(all(cut[i] < cut[i+1] for i in range(len(cut) - 1))):\n",
    "        for k in range(1, ntopic): # generate the cuts\n",
    "            cut[k] = random.randint(1, num_lines-1)\n",
    "    cut.append(num_lines)\n",
    "        \n",
    "    return cut\n",
    "\n",
    "def load_file(file_path):\n",
    "    file = get_text_from_file(file_path)\n",
    "    c = Counter()\n",
    "    num_lines = sum(1 for line in open(file_path)) # Number of lines in the file\n",
    "\n",
    "    for row in file:\n",
    "        c.update(row)\n",
    "        \n",
    "    return num_lines, file, c\n",
    "    "
   ]
  },
  {
   "cell_type": "markdown",
   "metadata": {},
   "source": [
    "### Algorithm"
   ]
  },
  {
   "cell_type": "code",
   "execution_count": 8,
   "metadata": {},
   "outputs": [],
   "source": [
    "def max_scores(file, ntopic, n_most_words, n_iteration): # n_most_words = number of most used words, used in cooccurrence()\n",
    "    scores = [0]*ntopic\n",
    "    sum_scores, max = 0, 0\n",
    "    max_cut = []\n",
    "    \n",
    "    for f in range(n_iteration): \n",
    "        # First generate the random cuts\n",
    "        cut = get_cuts(ntopic)\n",
    "        \n",
    "        # Extract the segments by the cuts and calculate the cooccurrence value for each segment\n",
    "        # based on the random cuts\n",
    "        for i in range(len(cut)-1):\n",
    "            text = extract_segment(file, cut[i], cut[i+1])\n",
    "            scores[i] = cooccurrence(text, n_most_words)\n",
    "        \n",
    "        # Evaluate the result and store the best result\n",
    "        sum_scores = sum(scores)\n",
    "        if(sum_scores > max):\n",
    "            max = sum_scores\n",
    "            max_cut = cut\n",
    "            \n",
    "    return max_cut, max"
   ]
  },
  {
   "cell_type": "markdown",
   "metadata": {},
   "source": [
    "### Data Processing"
   ]
  },
  {
   "cell_type": "code",
   "execution_count": 9,
   "metadata": {},
   "outputs": [
    {
     "name": "stdout",
     "output_type": "stream",
     "text": [
      "[('lamar', 78), ('quantum', 63), ('gorilla', 34), ('gorillas', 31), ('released', 30), ('also', 27), ('astronomy', 25), ('album', 25), ('first', 24), ('dre', 19), ('classical', 18), ('mixtape', 17), ('algorithm', 16), ('stars', 16), ('silverback', 15), ('early', 15), ('astronomical', 15), ('ray', 15), ('song', 15), ('years', 14), ('females', 14), ('made', 14), ('new', 14), ('computers', 14), ('computer', 14), ('wavelengths', 14), ('video', 14), ('males', 13), ('known', 13), ('may', 13)]\n"
     ]
    }
   ],
   "source": [
    "n_most_words = 3\n",
    "n_topics = 4\n",
    "n_iteration = 20000 # Number of iteration to generate the best result - higher value = more time and better result\n",
    "c = Counter()\n",
    "\n",
    "# file_data = load_file('../data/segmentation_eng.txt') # Load the file and get the number of lines and the list of most common word in the file\n",
    "\n",
    "num_lines = file_data[0]\n",
    "file = file_data[1]\n",
    "\n",
    "for row in file:\n",
    "    c.update(row)\n",
    "    \n",
    "print(c.most_common(30))"
   ]
  },
  {
   "cell_type": "code",
   "execution_count": 10,
   "metadata": {},
   "outputs": [
    {
     "name": "stdout",
     "output_type": "stream",
     "text": [
      "\n",
      "Best cut at lines -->  [0, 59, 102, 178, 254]\n",
      "the max sum is    -->  363\n"
     ]
    }
   ],
   "source": [
    "res = max_scores(file, n_topics, n_most_words, n_iteration)\n",
    "\n",
    "print(f'\\nBest cut at lines -->  {res[0]}\\nthe max sum is    -->  {res[1]}')\n"
   ]
  },
  {
   "cell_type": "markdown",
   "metadata": {},
   "source": [
    "# Just a Try - Dynamic Cutting Algorithm\n",
    "## Non funziona"
   ]
  },
  {
   "cell_type": "markdown",
   "metadata": {},
   "source": [
    "Al posto di calcolare i valori dei tagli in maniera randomica andiamo a scegliere il taglio migliore su base iterativa"
   ]
  },
  {
   "cell_type": "code",
   "execution_count": 11,
   "metadata": {},
   "outputs": [],
   "source": [
    "def get_scores_2_seg(seg1, seg2, most_words):\n",
    "    scores = 0\n",
    "    scores = cooccurrence(seg1, most_words) + cooccurrence(seg2, most_words)\n",
    "    return scores"
   ]
  },
  {
   "cell_type": "code",
   "execution_count": 12,
   "metadata": {},
   "outputs": [],
   "source": [
    "def max_scores_dyn(file, ntopic, n_most_words, n_iteration, n_limit): # n_most_words = number of most used words, used in cooccurrence()\n",
    "    \n",
    "    max_scores, limit, direction = [0]*ntopic, [0]*n_topics, [1]*n_topics\n",
    "    cut = get_cuts(ntopic)\n",
    "    # cut = [0, 41, 100, 160, 254]\n",
    "    \n",
    "    for f in range(n_iteration):\n",
    "        for k in range(1,len(cut)-1):\n",
    "            # get the scores of the two segments divided by a cut\n",
    "            rel_score = get_scores_2_seg(extract_segment(file, cut[k-1], cut[k]), extract_segment(file, cut[k], cut[k+1]), n_most_words)\n",
    "            \n",
    "            if(rel_score > max_scores[k]):\n",
    "                max_scores[k-1] = rel_score\n",
    "                limit[k] = 0\n",
    "            # Update the value of cut --> Try a direction\n",
    "            elif limit[k] < n_limit:\n",
    "                cut[k] = cut[k] + (1 * direction[k])\n",
    "                limit[k] = limit[k] + 1\n",
    "            # Change direction of search --> Wrong direction\n",
    "            else:\n",
    "                cut[k] = cut[k] - (limit[k] * (direction[k])) #! qua da controllare con attenzione\n",
    "                direction[k] *= -1\n",
    "                limit[k] = 0\n",
    "            \n",
    "    return cut, max_scores\n",
    "    "
   ]
  },
  {
   "cell_type": "code",
   "execution_count": 13,
   "metadata": {},
   "outputs": [
    {
     "name": "stdout",
     "output_type": "stream",
     "text": [
      "\n",
      "Best cut -->  [0, 94, 144, 189, 254]\n",
      "the max value is  -->  [181, 78, 164, 0]\n"
     ]
    }
   ],
   "source": [
    "res = max_scores_dyn(file, 4, 3, 100000, 40)\n",
    "\n",
    "print(f'\\nBest cut -->  {res[0]}\\nthe max value is  -->  {res[1]}')"
   ]
  },
  {
   "cell_type": "code",
   "execution_count": 14,
   "metadata": {},
   "outputs": [],
   "source": [
    "max_scores, scores = [0, 0, 0], [0, 0, 0]\n",
    "sum_score = 0\n",
    "max = 0\n",
    "# cut = [0, 10, 45, num_lines]\n",
    "\n",
    "#* Questi parametri sono legati alle singole iterazioni, quindi alla ricerca dei tagli legati ai singoli segmenti\n",
    "limit = [0, 0, 0] # Used to avoid to go to far away from the cut\n",
    "direction = [1, 1, 1] # Indicate the direction of the search, 1 mean \"top\" and -1 mean \"bottom\"\n",
    "\n",
    "cut = [0, 40, 120, num_lines] #* Real: [59, 102]"
   ]
  },
  {
   "cell_type": "markdown",
   "metadata": {},
   "source": [
    "# Just a Try - Segmentation without number of topics\n",
    "## Non funziona"
   ]
  },
  {
   "cell_type": "code",
   "execution_count": 15,
   "metadata": {},
   "outputs": [
    {
     "ename": "TypeError",
     "evalue": "'list' object is not callable",
     "output_type": "error",
     "traceback": [
      "\u001b[0;31m---------------------------------------------------------------------------\u001b[0m",
      "\u001b[0;31mTypeError\u001b[0m                                 Traceback (most recent call last)",
      "\u001b[1;32m/Users/paolobonicco/virtual-envs/tln-2022-third-part-lab/es4_segmentation/segmentation.ipynb Cell 22\u001b[0m in \u001b[0;36m<cell line: 5>\u001b[0;34m()\u001b[0m\n\u001b[1;32m      <a href='vscode-notebook-cell:/Users/paolobonicco/virtual-envs/tln-2022-third-part-lab/es4_segmentation/segmentation.ipynb#ch0000025?line=4'>5</a>\u001b[0m \u001b[39mfor\u001b[39;00m f \u001b[39min\u001b[39;00m \u001b[39mrange\u001b[39m(\u001b[39m2\u001b[39m):\n\u001b[1;32m      <a href='vscode-notebook-cell:/Users/paolobonicco/virtual-envs/tln-2022-third-part-lab/es4_segmentation/segmentation.ipynb#ch0000025?line=5'>6</a>\u001b[0m     ntopic \u001b[39m=\u001b[39m random\u001b[39m.\u001b[39mrandint(\u001b[39m2\u001b[39m, \u001b[39m10\u001b[39m)\n\u001b[0;32m----> <a href='vscode-notebook-cell:/Users/paolobonicco/virtual-envs/tln-2022-third-part-lab/es4_segmentation/segmentation.ipynb#ch0000025?line=6'>7</a>\u001b[0m     res \u001b[39m=\u001b[39m max_scores(file, ntopic)\n\u001b[1;32m      <a href='vscode-notebook-cell:/Users/paolobonicco/virtual-envs/tln-2022-third-part-lab/es4_segmentation/segmentation.ipynb#ch0000025?line=8'>9</a>\u001b[0m     \u001b[39mif\u001b[39;00m(\u001b[39mmax\u001b[39m \u001b[39m<\u001b[39m res[\u001b[39m1\u001b[39m]):\n\u001b[1;32m     <a href='vscode-notebook-cell:/Users/paolobonicco/virtual-envs/tln-2022-third-part-lab/es4_segmentation/segmentation.ipynb#ch0000025?line=9'>10</a>\u001b[0m         \u001b[39mmax\u001b[39m \u001b[39m=\u001b[39m res[\u001b[39m1\u001b[39m]\n",
      "\u001b[0;31mTypeError\u001b[0m: 'list' object is not callable"
     ]
    }
   ],
   "source": [
    "max = 0\n",
    "max_cut = []\n",
    "max_n_topic = 0\n",
    "\n",
    "for f in range(2):\n",
    "    ntopic = random.randint(2, 10)\n",
    "    res = max_scores(file, ntopic)\n",
    "    \n",
    "    if(max < res[1]):\n",
    "        max = res[1]\n",
    "        max_cut = res[0]\n",
    "        max_n_topic = ntopic\n",
    "        \n",
    "print(f'max is {max} at {max_cut} with {max_n_topic} topics')\n"
   ]
  },
  {
   "cell_type": "code",
   "execution_count": null,
   "metadata": {},
   "outputs": [],
   "source": []
  }
 ],
 "metadata": {
  "kernelspec": {
   "display_name": "Python 3.10.4 ('venvdicaro': venv)",
   "language": "python",
   "name": "python3"
  },
  "language_info": {
   "codemirror_mode": {
    "name": "ipython",
    "version": 3
   },
   "file_extension": ".py",
   "mimetype": "text/x-python",
   "name": "python",
   "nbconvert_exporter": "python",
   "pygments_lexer": "ipython3",
   "version": "3.10.4"
  },
  "orig_nbformat": 4,
  "vscode": {
   "interpreter": {
    "hash": "3fc711e4ee2b6550a1e55fb58a23702f691a325dedbbea2e10fa55c056de4b98"
   }
  }
 },
 "nbformat": 4,
 "nbformat_minor": 2
}
