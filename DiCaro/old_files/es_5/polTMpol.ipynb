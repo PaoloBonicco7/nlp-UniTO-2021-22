{
 "cells": [
  {
   "cell_type": "code",
   "execution_count": 1,
   "metadata": {},
   "outputs": [],
   "source": [
    "import logging\n",
    "logging.basicConfig(format='%(asctime)s : %(levelname)s : %(message)s', level=logging.INFO)"
   ]
  },
  {
   "cell_type": "markdown",
   "metadata": {},
   "source": [
    "### Preprocessing the data"
   ]
  },
  {
   "cell_type": "code",
   "execution_count": 2,
   "metadata": {},
   "outputs": [
    {
     "name": "stderr",
     "output_type": "stream",
     "text": [
      "2022-07-15 12:15:12,374 : INFO : adding document #0 to Dictionary<0 unique tokens: []>\n",
      "2022-07-15 12:15:12,375 : INFO : built Dictionary<12 unique tokens: ['computer', 'human', 'interface', 'response', 'survey']...> from 9 documents (total 29 corpus positions)\n",
      "2022-07-15 12:15:12,375 : INFO : Dictionary lifecycle event {'msg': \"built Dictionary<12 unique tokens: ['computer', 'human', 'interface', 'response', 'survey']...> from 9 documents (total 29 corpus positions)\", 'datetime': '2022-07-15T12:15:12.375782', 'gensim': '4.2.0', 'python': '3.10.4 (main, Apr 26 2022, 19:36:29) [Clang 13.1.6 (clang-1316.0.21.2)]', 'platform': 'macOS-12.4-arm64-arm-64bit', 'event': 'created'}\n"
     ]
    }
   ],
   "source": [
    "from collections import defaultdict\n",
    "from gensim import corpora\n",
    "\n",
    "documents = [\n",
    "    \"Human machine interface for lab abc computer applications\",\n",
    "    \"A survey of user opinion of computer system response time\",\n",
    "    \"The EPS user interface management system\",\n",
    "    \"System and human system engineering testing of EPS\",\n",
    "    \"Relation of user perceived response time to error measurement\",\n",
    "    \"The generation of random binary unordered trees\",\n",
    "    \"The intersection graph of paths in trees\",\n",
    "    \"Graph minors IV Widths of trees and well quasi ordering\",\n",
    "    \"Graph minors A survey\",\n",
    "]\n",
    "\n",
    "# remove common words and tokenize\n",
    "stoplist = set('for a of the and to in'.split())\n",
    "texts = [\n",
    "    [word for word in document.lower().split() if word not in stoplist]\n",
    "    for document in documents\n",
    "]\n",
    "\n",
    "# remove words that appear only once\n",
    "frequency = defaultdict(int)\n",
    "for text in texts:\n",
    "    for token in text:\n",
    "        frequency[token] += 1\n",
    "\n",
    "texts = [\n",
    "    [token for token in text if frequency[token] > 1]\n",
    "    for text in texts\n",
    "]\n",
    "\n",
    "dictionary = corpora.Dictionary(texts)\n",
    "corpus = [dictionary.doc2bow(text) for text in texts]"
   ]
  },
  {
   "cell_type": "code",
   "execution_count": 3,
   "metadata": {},
   "outputs": [
    {
     "name": "stderr",
     "output_type": "stream",
     "text": [
      "2022-07-15 12:15:22,305 : INFO : collecting document frequencies\n",
      "2022-07-15 12:15:22,305 : INFO : PROGRESS: processing document #0\n",
      "2022-07-15 12:15:22,305 : INFO : TfidfModel lifecycle event {'msg': 'calculated IDF weights for 9 documents and 12 features (28 matrix non-zeros)', 'datetime': '2022-07-15T12:15:22.305935', 'gensim': '4.2.0', 'python': '3.10.4 (main, Apr 26 2022, 19:36:29) [Clang 13.1.6 (clang-1316.0.21.2)]', 'platform': 'macOS-12.4-arm64-arm-64bit', 'event': 'initialize'}\n"
     ]
    }
   ],
   "source": [
    "from gensim import models\n",
    "\n",
    "tfidf = models.TfidfModel(corpus)  # step 1 -- initialize a model\n"
   ]
  },
  {
   "cell_type": "code",
   "execution_count": 4,
   "metadata": {},
   "outputs": [
    {
     "name": "stdout",
     "output_type": "stream",
     "text": [
      "[(0, 0.7071067811865476), (1, 0.7071067811865476)]\n"
     ]
    }
   ],
   "source": [
    "doc_bow = [(0, 1), (1, 1)]\n",
    "print(tfidf[doc_bow])  # step 2 -- use the model to transform vectors"
   ]
  },
  {
   "cell_type": "code",
   "execution_count": 6,
   "metadata": {},
   "outputs": [
    {
     "name": "stdout",
     "output_type": "stream",
     "text": [
      "[(0, 0.5773502691896257), (1, 0.5773502691896257), (2, 0.5773502691896257)]\n",
      "[(0, 0.44424552527467476), (3, 0.44424552527467476), (4, 0.44424552527467476), (5, 0.3244870206138555), (6, 0.44424552527467476), (7, 0.3244870206138555)]\n",
      "[(2, 0.5710059809418182), (5, 0.4170757362022777), (7, 0.4170757362022777), (8, 0.5710059809418182)]\n",
      "[(1, 0.49182558987264147), (5, 0.7184811607083769), (8, 0.49182558987264147)]\n",
      "[(3, 0.6282580468670046), (6, 0.6282580468670046), (7, 0.45889394536615247)]\n",
      "[(9, 1.0)]\n",
      "[(9, 0.7071067811865475), (10, 0.7071067811865475)]\n",
      "[(9, 0.5080429008916749), (10, 0.5080429008916749), (11, 0.695546419520037)]\n",
      "[(4, 0.6282580468670046), (10, 0.45889394536615247), (11, 0.6282580468670046)]\n"
     ]
    }
   ],
   "source": [
    "corpus_tfidf = tfidf[corpus]\n",
    "for doc in corpus_tfidf:\n",
    "    print(doc)"
   ]
  },
  {
   "cell_type": "code",
   "execution_count": 10,
   "metadata": {},
   "outputs": [
    {
     "name": "stderr",
     "output_type": "stream",
     "text": [
      "2022-07-15 12:16:14,808 : INFO : using serial LSI version on this node\n",
      "2022-07-15 12:16:14,818 : INFO : updating model with new documents\n",
      "2022-07-15 12:16:14,820 : INFO : preparing a new chunk of documents\n",
      "2022-07-15 12:16:14,821 : INFO : using 100 extra samples and 2 power iterations\n",
      "2022-07-15 12:16:14,823 : INFO : 1st phase: constructing (12, 102) action matrix\n",
      "2022-07-15 12:16:14,825 : INFO : orthonormalizing (12, 102) action matrix\n",
      "2022-07-15 12:16:14,827 : INFO : 2nd phase: running dense svd on (12, 9) matrix\n",
      "2022-07-15 12:16:14,830 : INFO : computing the final decomposition\n",
      "2022-07-15 12:16:14,833 : INFO : keeping 2 factors (discarding 47.565% of energy spectrum)\n",
      "2022-07-15 12:16:14,835 : INFO : processed documents up to #9\n",
      "2022-07-15 12:16:14,837 : INFO : topic #0(1.594): 0.703*\"trees\" + 0.538*\"graph\" + 0.402*\"minors\" + 0.187*\"survey\" + 0.061*\"system\" + 0.060*\"response\" + 0.060*\"time\" + 0.058*\"user\" + 0.049*\"computer\" + 0.035*\"interface\"\n",
      "2022-07-15 12:16:14,838 : INFO : topic #1(1.476): -0.460*\"system\" + -0.373*\"user\" + -0.332*\"eps\" + -0.328*\"interface\" + -0.320*\"response\" + -0.320*\"time\" + -0.293*\"computer\" + -0.280*\"human\" + -0.171*\"survey\" + 0.161*\"trees\"\n",
      "2022-07-15 12:16:14,839 : INFO : LsiModel lifecycle event {'msg': 'trained LsiModel<num_terms=12, num_topics=2, decay=1.0, chunksize=20000> in 0.02s', 'datetime': '2022-07-15T12:16:14.839301', 'gensim': '4.2.0', 'python': '3.10.4 (main, Apr 26 2022, 19:36:29) [Clang 13.1.6 (clang-1316.0.21.2)]', 'platform': 'macOS-12.4-arm64-arm-64bit', 'event': 'created'}\n"
     ]
    }
   ],
   "source": [
    "lsi_model = models.LsiModel(corpus_tfidf, id2word=dictionary, num_topics=2)  # initialize an LSI transformation\n",
    "corpus_lsi = lsi_model[corpus_tfidf]  # create a double wrapper over the original corpus: bow->tfidf->fold-in-lsi"
   ]
  },
  {
   "cell_type": "code",
   "execution_count": 9,
   "metadata": {},
   "outputs": [
    {
     "name": "stderr",
     "output_type": "stream",
     "text": [
      "2022-07-15 12:16:12,868 : INFO : topic #0(1.594): 0.703*\"trees\" + 0.538*\"graph\" + 0.402*\"minors\" + 0.187*\"survey\" + 0.061*\"system\" + 0.060*\"time\" + 0.060*\"response\" + 0.058*\"user\" + 0.049*\"computer\" + 0.035*\"interface\"\n",
      "2022-07-15 12:16:12,871 : INFO : topic #1(1.476): -0.460*\"system\" + -0.373*\"user\" + -0.332*\"eps\" + -0.328*\"interface\" + -0.320*\"response\" + -0.320*\"time\" + -0.293*\"computer\" + -0.280*\"human\" + -0.171*\"survey\" + 0.161*\"trees\"\n"
     ]
    },
    {
     "data": {
      "text/plain": [
       "[(0,\n",
       "  '0.703*\"trees\" + 0.538*\"graph\" + 0.402*\"minors\" + 0.187*\"survey\" + 0.061*\"system\" + 0.060*\"time\" + 0.060*\"response\" + 0.058*\"user\" + 0.049*\"computer\" + 0.035*\"interface\"'),\n",
       " (1,\n",
       "  '-0.460*\"system\" + -0.373*\"user\" + -0.332*\"eps\" + -0.328*\"interface\" + -0.320*\"response\" + -0.320*\"time\" + -0.293*\"computer\" + -0.280*\"human\" + -0.171*\"survey\" + 0.161*\"trees\"')]"
      ]
     },
     "execution_count": 9,
     "metadata": {},
     "output_type": "execute_result"
    }
   ],
   "source": [
    "lsi_model.print_topics(2)"
   ]
  },
  {
   "cell_type": "code",
   "execution_count": 11,
   "metadata": {},
   "outputs": [
    {
     "name": "stdout",
     "output_type": "stream",
     "text": [
      "[(0, 0.06600783396090452), (1, -0.5200703306361849)] Human machine interface for lab abc computer applications\n",
      "[(0, 0.19667592859142735), (1, -0.7609563167700043)] A survey of user opinion of computer system response time\n",
      "[(0, 0.08992639972446619), (1, -0.724186062675251)] The EPS user interface management system\n",
      "[(0, 0.07585847652178304), (1, -0.6320551586003431)] System and human system engineering testing of EPS\n",
      "[(0, 0.10150299184980348), (1, -0.5737308483002953)] Relation of user perceived response time to error measurement\n",
      "[(0, 0.7032108939378309), (1, 0.1611518021402598)] The generation of random binary unordered trees\n",
      "[(0, 0.8774787673119826), (1, 0.1675890686465962)] The intersection graph of paths in trees\n",
      "[(0, 0.9098624686818573), (1, 0.1408655362871922)] Graph minors IV Widths of trees and well quasi ordering\n",
      "[(0, 0.6165825350569281), (1, -0.05392907566389246)] Graph minors A survey\n"
     ]
    }
   ],
   "source": [
    "# both bow->tfidf and tfidf->lsi transformations are actually executed here, on the fly\n",
    "for doc, as_text in zip(corpus_lsi, documents):\n",
    "    print(doc, as_text)"
   ]
  },
  {
   "cell_type": "code",
   "execution_count": 12,
   "metadata": {},
   "outputs": [
    {
     "name": "stderr",
     "output_type": "stream",
     "text": [
      "2022-07-15 12:16:30,833 : INFO : Projection lifecycle event {'fname_or_handle': '/var/folders/1h/nl4lppwj1hgdkrq7c63vgdpr0000gn/T/model-f0eqohl0.lsi.projection', 'separately': 'None', 'sep_limit': 10485760, 'ignore': frozenset(), 'datetime': '2022-07-15T12:16:30.833210', 'gensim': '4.2.0', 'python': '3.10.4 (main, Apr 26 2022, 19:36:29) [Clang 13.1.6 (clang-1316.0.21.2)]', 'platform': 'macOS-12.4-arm64-arm-64bit', 'event': 'saving'}\n",
      "2022-07-15 12:16:30,835 : INFO : saved /var/folders/1h/nl4lppwj1hgdkrq7c63vgdpr0000gn/T/model-f0eqohl0.lsi.projection\n",
      "2022-07-15 12:16:30,835 : INFO : LsiModel lifecycle event {'fname_or_handle': '/var/folders/1h/nl4lppwj1hgdkrq7c63vgdpr0000gn/T/model-f0eqohl0.lsi', 'separately': 'None', 'sep_limit': 10485760, 'ignore': ['projection', 'dispatcher'], 'datetime': '2022-07-15T12:16:30.835773', 'gensim': '4.2.0', 'python': '3.10.4 (main, Apr 26 2022, 19:36:29) [Clang 13.1.6 (clang-1316.0.21.2)]', 'platform': 'macOS-12.4-arm64-arm-64bit', 'event': 'saving'}\n",
      "2022-07-15 12:16:30,836 : INFO : not storing attribute projection\n",
      "2022-07-15 12:16:30,836 : INFO : not storing attribute dispatcher\n",
      "2022-07-15 12:16:30,837 : INFO : saved /var/folders/1h/nl4lppwj1hgdkrq7c63vgdpr0000gn/T/model-f0eqohl0.lsi\n",
      "2022-07-15 12:16:30,837 : INFO : loading LsiModel object from /var/folders/1h/nl4lppwj1hgdkrq7c63vgdpr0000gn/T/model-f0eqohl0.lsi\n",
      "2022-07-15 12:16:30,838 : INFO : loading id2word recursively from /var/folders/1h/nl4lppwj1hgdkrq7c63vgdpr0000gn/T/model-f0eqohl0.lsi.id2word.* with mmap=None\n",
      "2022-07-15 12:16:30,839 : INFO : setting ignored attribute projection to None\n",
      "2022-07-15 12:16:30,839 : INFO : setting ignored attribute dispatcher to None\n",
      "2022-07-15 12:16:30,839 : INFO : LsiModel lifecycle event {'fname': '/var/folders/1h/nl4lppwj1hgdkrq7c63vgdpr0000gn/T/model-f0eqohl0.lsi', 'datetime': '2022-07-15T12:16:30.839614', 'gensim': '4.2.0', 'python': '3.10.4 (main, Apr 26 2022, 19:36:29) [Clang 13.1.6 (clang-1316.0.21.2)]', 'platform': 'macOS-12.4-arm64-arm-64bit', 'event': 'loaded'}\n",
      "2022-07-15 12:16:30,839 : INFO : loading LsiModel object from /var/folders/1h/nl4lppwj1hgdkrq7c63vgdpr0000gn/T/model-f0eqohl0.lsi.projection\n",
      "2022-07-15 12:16:30,840 : INFO : Projection lifecycle event {'fname': '/var/folders/1h/nl4lppwj1hgdkrq7c63vgdpr0000gn/T/model-f0eqohl0.lsi.projection', 'datetime': '2022-07-15T12:16:30.840868', 'gensim': '4.2.0', 'python': '3.10.4 (main, Apr 26 2022, 19:36:29) [Clang 13.1.6 (clang-1316.0.21.2)]', 'platform': 'macOS-12.4-arm64-arm-64bit', 'event': 'loaded'}\n"
     ]
    }
   ],
   "source": [
    "import os\n",
    "import tempfile\n",
    "\n",
    "with tempfile.NamedTemporaryFile(prefix='model-', suffix='.lsi', delete=False) as tmp:\n",
    "    lsi_model.save(tmp.name)  # same for tfidf, lda, ...\n",
    "\n",
    "loaded_lsi_model = models.LsiModel.load(tmp.name)\n",
    "\n",
    "os.unlink(tmp.name)"
   ]
  }
 ],
 "metadata": {
  "kernelspec": {
   "display_name": "Python 3.10.4 ('venvdicaro': venv)",
   "language": "python",
   "name": "python3"
  },
  "language_info": {
   "codemirror_mode": {
    "name": "ipython",
    "version": 3
   },
   "file_extension": ".py",
   "mimetype": "text/x-python",
   "name": "python",
   "nbconvert_exporter": "python",
   "pygments_lexer": "ipython3",
   "version": "3.10.4"
  },
  "orig_nbformat": 4,
  "vscode": {
   "interpreter": {
    "hash": "3fc711e4ee2b6550a1e55fb58a23702f691a325dedbbea2e10fa55c056de4b98"
   }
  }
 },
 "nbformat": 4,
 "nbformat_minor": 2
}
