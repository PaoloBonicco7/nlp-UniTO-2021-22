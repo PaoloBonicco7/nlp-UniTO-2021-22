{
 "cells": [
  {
   "cell_type": "markdown",
   "metadata": {},
   "source": [
    "link utili:\n",
    "\n",
    "* http://wordnetweb.princeton.edu/perl/webwn"
   ]
  },
  {
   "cell_type": "code",
   "execution_count": 1,
   "metadata": {},
   "outputs": [],
   "source": [
    "from nltk.corpus import wordnet as wn\n",
    "from pprint import pprint\n",
    "import time\n",
    "import string\n",
    "import random"
   ]
  },
  {
   "cell_type": "markdown",
   "metadata": {},
   "source": [
    "memoria usata per navigare la gerarchia di wordnet e scegliere dove fermarsi"
   ]
  },
  {
   "cell_type": "code",
   "execution_count": 2,
   "metadata": {},
   "outputs": [],
   "source": [
    "CATEGORIES = [[\"FRUIT\", \"cranberry\", \"apple\", \"peanut\", \"orange\"]]"
   ]
  },
  {
   "cell_type": "markdown",
   "metadata": {},
   "source": [
    "funzione per trovare gli iperonimi dei frutti in categories. \n",
    "\n",
    "Cicla su tutti i frutti in CATEGORIES.\n",
    "\n",
    "Cicla sugli iponimi di 'Fruit' fino a profondità 3 (es. fruit -> edible fruit -> citrus -> orange)\n",
    "    \n",
    "        - se a una certa profondità incontra uno degli elementi in CATEGORIES, aggiunge l'iperonimo alla lista che verrà restituita "
   ]
  },
  {
   "cell_type": "code",
   "execution_count": 3,
   "metadata": {},
   "outputs": [],
   "source": [
    "def get_hypernyms_fruit(category):\n",
    "    hyponyms = wn.synsets(category[0][0])[0].hyponyms() # lista di iponimi del primo synset di fruit\n",
    "    syn_list = []\n",
    "    for word in category[0][1:]:\n",
    "        for hypo in hyponyms:\n",
    "            for hypo_hypo in hypo.hyponyms():\n",
    "                for w in wn.synsets(word):\n",
    "                    if w == hypo_hypo: \n",
    "                        if hypo not in syn_list:\n",
    "                            syn_list.append(hypo)\n",
    "                for hypo_hypo_hypo in hypo_hypo.hyponyms(): \n",
    "                    for w in wn.synsets(word):\n",
    "                        if w == hypo_hypo_hypo: \n",
    "                            if hypo_hypo not in syn_list:\n",
    "                                syn_list.append(hypo_hypo)\n",
    "    return syn_list "
   ]
  },
  {
   "cell_type": "markdown",
   "metadata": {},
   "source": [
    "Funzione per capire se il frutto detto dall'utente è corretto o no.\n",
    "\n",
    "Cicla su tutti gli iperonimi nella lista generata da get_hypernyms_fruit e su tutti i synset possibili per il frutto detto dall'utente.\n",
    "\n",
    "        - se trova uno dei synset del frutto tra gli iperonimi di synset ricevuti da get_hypernyms_fruit, e la lettera iniziale è quella giusta\n",
    "          restituisce True\n",
    "        "
   ]
  },
  {
   "cell_type": "code",
   "execution_count": 4,
   "metadata": {},
   "outputs": [],
   "source": [
    "def search_elem(synsets, hypernyms, letter):\n",
    "    for hyper in hypernyms:\n",
    "        #print(hyper)\n",
    "        for hypo in hyper.hyponyms():\n",
    "            #print(hypo)\n",
    "            for syn in synsets: #synset possibili per la frutta in input, li controllo tutti\n",
    "                #print(syn)\n",
    "                if syn == hypo:\n",
    "                    if syn.name()[0].lower() == letter.lower():\n",
    "                        return f\"{syn.name().split('.')[:1][0]} is correct, synset: {hypo.name()}, hyponym of: {hyper.name()}\"\n",
    "                    else:\n",
    "                        return f\"So bad, {synsets[0].name().split('.')[:1][0]} it's not a fruit starting with {letter}\"\n",
    "    return f\"So bad, {synsets[0].name().split('.')[:1][0]} it's not a fruit\""
   ]
  },
  {
   "cell_type": "code",
   "execution_count": 5,
   "metadata": {},
   "outputs": [],
   "source": [
    "def game():\n",
    "    print(\"Welcome to the Game!\")\n",
    "    #time.sleep(1)\n",
    "    print(\"Tell me a fruit starting with letter ...\")\n",
    "    #time.sleep(1)\n",
    "    letter = random.choice(string.ascii_letters).lower()\n",
    "    print(f\"{letter.capitalize()}\")\n",
    "    fruit = input()\n",
    "    hypernyms = get_hypernyms_fruit(CATEGORIES)\n",
    "    print(search_elem(wn.synsets(fruit), hypernyms, letter))\n",
    "    "
   ]
  },
  {
   "cell_type": "markdown",
   "metadata": {},
   "source": [
    "### testing"
   ]
  },
  {
   "cell_type": "code",
   "execution_count": 6,
   "metadata": {},
   "outputs": [
    {
     "name": "stdout",
     "output_type": "stream",
     "text": [
      "[Synset('berry.n.02'), Synset('berry.n.01'), Synset('edible_fruit.n.01'), Synset('pome.n.01'), Synset('pod.n.02'), Synset('citrus.n.01')]\n",
      "kiwi is correct, synset: kiwi.n.03, hyponym of: edible_fruit.n.01\n",
      "citrus is correct, synset: citrus.n.01, hyponym of: edible_fruit.n.01\n",
      "tangelo is correct, synset: tangelo.n.02, hyponym of: edible_fruit.n.01\n",
      "banana is correct, synset: banana.n.02, hyponym of: edible_fruit.n.01\n",
      "apple is correct, synset: apple.n.01, hyponym of: edible_fruit.n.01\n",
      "peanut is correct, synset: peanut.n.01, hyponym of: pod.n.02\n",
      "orange is correct, synset: orange.n.01, hyponym of: citrus.n.01\n",
      "grape is correct, synset: grape.n.01, hyponym of: edible_fruit.n.01\n",
      "strawberry is correct, synset: strawberry.n.01, hyponym of: berry.n.01\n",
      "nectarine is correct, synset: nectarine.n.02, hyponym of: edible_fruit.n.01\n",
      "melon is correct, synset: melon.n.01, hyponym of: edible_fruit.n.01\n"
     ]
    }
   ],
   "source": [
    "hypernyms = get_hypernyms_fruit(CATEGORIES)\n",
    "print(hypernyms)\n",
    "print(search_elem(wn.synsets(\"kiwi\"), hypernyms, \"k\"))\n",
    "print(search_elem(wn.synsets(\"citrus\"), hypernyms, \"c\"))\n",
    "print(search_elem(wn.synsets(\"tangelo\"), hypernyms, \"t\"))\n",
    "print(search_elem(wn.synsets(\"banana\"), hypernyms, \"b\"))\n",
    "print(search_elem(wn.synsets(\"apple\"), hypernyms, \"a\"))\n",
    "print(search_elem(wn.synsets(\"peanut\"), hypernyms, \"p\"))\n",
    "print(search_elem(wn.synsets(\"orange\"), hypernyms, \"o\"))\n",
    "print(search_elem(wn.synsets(\"grape\"), hypernyms, \"g\"))\n",
    "print(search_elem(wn.synsets(\"strawberry\"), hypernyms, \"s\"))\n",
    "print(search_elem(wn.synsets(\"nectarine\"), hypernyms, \"n\"))\n",
    "print(search_elem(wn.synsets(\"melon\"), hypernyms, \"m\"))\n"
   ]
  },
  {
   "cell_type": "markdown",
   "metadata": {},
   "source": [
    "### Game"
   ]
  },
  {
   "cell_type": "code",
   "execution_count": 7,
   "metadata": {},
   "outputs": [
    {
     "name": "stdout",
     "output_type": "stream",
     "text": [
      "Welcome to the Game!\n",
      "Tell me a fruit starting with letter ...\n",
      "V\n",
      "So bad, venom it's not a fruit\n"
     ]
    }
   ],
   "source": [
    "game()"
   ]
  }
 ],
 "metadata": {
  "kernelspec": {
   "display_name": "Python 3.10.4 ('venvdicaro': venv)",
   "language": "python",
   "name": "python3"
  },
  "language_info": {
   "codemirror_mode": {
    "name": "ipython",
    "version": 3
   },
   "file_extension": ".py",
   "mimetype": "text/x-python",
   "name": "python",
   "nbconvert_exporter": "python",
   "pygments_lexer": "ipython3",
   "version": "3.10.4"
  },
  "orig_nbformat": 4,
  "vscode": {
   "interpreter": {
    "hash": "3fc711e4ee2b6550a1e55fb58a23702f691a325dedbbea2e10fa55c056de4b98"
   }
  }
 },
 "nbformat": 4,
 "nbformat_minor": 2
}
