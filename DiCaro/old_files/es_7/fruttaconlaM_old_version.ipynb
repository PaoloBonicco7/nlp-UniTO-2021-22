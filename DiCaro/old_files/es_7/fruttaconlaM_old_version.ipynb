{
 "cells": [
  {
   "cell_type": "markdown",
   "metadata": {},
   "source": [
    "# Esercizio 7 - Frutta con la M"
   ]
  },
  {
   "cell_type": "markdown",
   "metadata": {},
   "source": [
    "In questo esercizio il sistema estrarrà una lettera a caso e chiederà all'utente di inserire un frutto con la lettera M, il \n",
    "frutto deve essere inserito in lingua inglese siccome usiamo wordnet per il controllo."
   ]
  },
  {
   "cell_type": "markdown",
   "metadata": {},
   "source": [
    "### Approccio"
   ]
  },
  {
   "cell_type": "markdown",
   "metadata": {},
   "source": [
    "Il problema di questo esercizio è far capire al sistema quando l'input è un frutto. Per risolvere questo problema ci siamo serviti di wordnet\n",
    "che però è strutturato in modo che non tutti i frutti abbiamo come iperonimo diretto il synset \"fruit\".\n",
    "\n",
    "\n",
    "\n",
    "Il nostro sistema è stato studiato solo per riconoscere i frutti, ma il nostro approccio, con qualche piccola modifica, è possibilmente \n",
    "estendibile ad altre categorie.\n"
   ]
  },
  {
   "cell_type": "markdown",
   "metadata": {},
   "source": [
    "### Imports adn constant"
   ]
  },
  {
   "cell_type": "code",
   "execution_count": 12,
   "metadata": {},
   "outputs": [],
   "source": [
    "from nltk.corpus import wordnet as wn\n",
    "from pprint import pprint\n",
    "import time\n",
    "import string\n",
    "import random"
   ]
  },
  {
   "cell_type": "markdown",
   "metadata": {},
   "source": [
    "Questa lista rappresenta la nostra memoria, il nostro sistema andrà a cercare il synset di riferimento in wordnet basandosi sui\n",
    "dati passati in input."
   ]
  },
  {
   "cell_type": "code",
   "execution_count": 13,
   "metadata": {},
   "outputs": [],
   "source": [
    "CATEGORIES = [\"FRUIT\", \"cranberry\", \"apple\", \"peanut\", \"orange\"]"
   ]
  },
  {
   "cell_type": "markdown",
   "metadata": {},
   "source": [
    "### Methods"
   ]
  },
  {
   "cell_type": "markdown",
   "metadata": {},
   "source": [
    "**search_elem**:\n",
    "\n",
    "Funzione per capire se il frutto detto dall'utente è corretto o no.\n",
    "Cicla su tutti gli iperonimi nella lista generata da find_right_hypos e su tutti i synset possibili per il frutto detto dall'utente, \n",
    "se trova uno dei synset del frutto tra gli iperonimi di synset ricevuti da find_right_hypos, e la lettera iniziale è quella giusta\n",
    "restituisce True."
   ]
  },
  {
   "cell_type": "code",
   "execution_count": 96,
   "metadata": {},
   "outputs": [],
   "source": [
    "def get_synset(word):\n",
    "    '''\n",
    "    Retrurn the first synset of a word.\n",
    "    '''\n",
    "    if(len(wn.synsets(word)) > 0):\n",
    "        return wn.synsets(word)[0]\n",
    "    return None\n",
    "\n",
    "def get_hypos(word):\n",
    "    '''\n",
    "    Return all the hyponyms of a word.\n",
    "    '''\n",
    "    syn = get_synset(word)\n",
    "    hypo_list = []\n",
    "    if(syn is not None):\n",
    "        hypo_list = list(set([get_synset(w) for s in syn.closure(lambda s:s.hyponyms()) for w in s.lemma_names()]))\n",
    "    return hypo_list\n",
    "\n",
    "def get_hypos_from_syn(syn):\n",
    "    '''\n",
    "    Return all the hyponyms of a word.\n",
    "    '''\n",
    "    hypo_list = []\n",
    "    if(syn is not None):\n",
    "        hypo_list = list(set([get_synset(w) for s in syn.closure(lambda s:s.hyponyms()) for w in s.lemma_names()]))\n",
    "    return hypo_list\n",
    "\n",
    "def get_hypers(word):\n",
    "    '''\n",
    "    Return the direct hypernyms of a word.\n",
    "    '''\n",
    "    syn = get_synset(word)\n",
    "    hypers = []\n",
    "    if(syn is not None):\n",
    "        hypers = syn.hypernyms()\n",
    "    return hypers\n",
    "\n",
    "def get_cat_hypers(category):\n",
    "    '''\n",
    "    Given a list of words return a list of word's hypernyms\n",
    "    '''\n",
    "    genus_list = []\n",
    "    for el in category[1:]:\n",
    "        genus_list.append(get_hypers(el))\n",
    "    return genus_list\n",
    "\n",
    "def right_words(category):\n",
    "    '''\n",
    "    Given a list of words return all the hyponyms of the words' hypenyms\n",
    "    '''\n",
    "    right_hypers = get_cat_hypers(category)\n",
    "    hypos_list = []\n",
    "    for hyper in right_hypers:\n",
    "        hypos_list.append(get_hypos_from_syn(hyper))\n",
    "    return hypos_list\n",
    "\n",
    "\n",
    "#! No more used\n",
    "def find_right_hypos(category):\n",
    "    '''\n",
    "    Return a list of synset that are hyponyms of the category (fruit)\n",
    "    and contain the words in the category. \n",
    "    Basically goes to filter out all hyponyms of fruit and just keep the ones\n",
    "    that contain the words in the category.\n",
    "    '''\n",
    "    hyponyms = get_hypos(category[0]) # list of synsets of all the hyponyms of \"fruit\"\n",
    "    syn_list = []\n",
    "    cat_words_syns = [get_synset(word) for word in category[1:]] # list of synsets of all the synset of the words in the category\n",
    "    for hypo in hyponyms:\n",
    "        if hypo in cat_words_syns and hypo not in syn_list:\n",
    "            syn_list.append(hypo)\n",
    "    return syn_list\n"
   ]
  },
  {
   "cell_type": "code",
   "execution_count": null,
   "metadata": {},
   "outputs": [],
   "source": [
    "print(right_words(CATEGORIES))"
   ]
  },
  {
   "cell_type": "code",
   "execution_count": 97,
   "metadata": {},
   "outputs": [
    {
     "ename": "AttributeError",
     "evalue": "'list' object has no attribute 'closure'",
     "output_type": "error",
     "traceback": [
      "\u001b[0;31m---------------------------------------------------------------------------\u001b[0m",
      "\u001b[0;31mAttributeError\u001b[0m                            Traceback (most recent call last)",
      "\u001b[1;32m/Users/paolobonicco/virtual-envs/tln-2022-third-part-lab/es7_fruttaconlaM/fruttaconlaM.ipynb Cell 12\u001b[0m in \u001b[0;36m<cell line: 1>\u001b[0;34m()\u001b[0m\n\u001b[0;32m----> <a href='vscode-notebook-cell:/Users/paolobonicco/virtual-envs/tln-2022-third-part-lab/es7_fruttaconlaM/fruttaconlaM.ipynb#ch0000013?line=0'>1</a>\u001b[0m \u001b[39mprint\u001b[39m(right_words(CATEGORIES))\n",
      "\u001b[1;32m/Users/paolobonicco/virtual-envs/tln-2022-third-part-lab/es7_fruttaconlaM/fruttaconlaM.ipynb Cell 12\u001b[0m in \u001b[0;36mright_words\u001b[0;34m(category)\u001b[0m\n\u001b[1;32m     <a href='vscode-notebook-cell:/Users/paolobonicco/virtual-envs/tln-2022-third-part-lab/es7_fruttaconlaM/fruttaconlaM.ipynb#ch0000013?line=51'>52</a>\u001b[0m hypos_list \u001b[39m=\u001b[39m []\n\u001b[1;32m     <a href='vscode-notebook-cell:/Users/paolobonicco/virtual-envs/tln-2022-third-part-lab/es7_fruttaconlaM/fruttaconlaM.ipynb#ch0000013?line=52'>53</a>\u001b[0m \u001b[39mfor\u001b[39;00m hyper \u001b[39min\u001b[39;00m right_hypers:\n\u001b[0;32m---> <a href='vscode-notebook-cell:/Users/paolobonicco/virtual-envs/tln-2022-third-part-lab/es7_fruttaconlaM/fruttaconlaM.ipynb#ch0000013?line=53'>54</a>\u001b[0m     hypos_list\u001b[39m.\u001b[39mappend(get_hypos_from_syn(hyper))\n\u001b[1;32m     <a href='vscode-notebook-cell:/Users/paolobonicco/virtual-envs/tln-2022-third-part-lab/es7_fruttaconlaM/fruttaconlaM.ipynb#ch0000013?line=54'>55</a>\u001b[0m \u001b[39mreturn\u001b[39;00m hypos_list\n",
      "\u001b[1;32m/Users/paolobonicco/virtual-envs/tln-2022-third-part-lab/es7_fruttaconlaM/fruttaconlaM.ipynb Cell 12\u001b[0m in \u001b[0;36mget_hypos_from_syn\u001b[0;34m(syn)\u001b[0m\n\u001b[1;32m     <a href='vscode-notebook-cell:/Users/paolobonicco/virtual-envs/tln-2022-third-part-lab/es7_fruttaconlaM/fruttaconlaM.ipynb#ch0000013?line=22'>23</a>\u001b[0m hypo_list \u001b[39m=\u001b[39m []\n\u001b[1;32m     <a href='vscode-notebook-cell:/Users/paolobonicco/virtual-envs/tln-2022-third-part-lab/es7_fruttaconlaM/fruttaconlaM.ipynb#ch0000013?line=23'>24</a>\u001b[0m \u001b[39mif\u001b[39;00m(syn \u001b[39mis\u001b[39;00m \u001b[39mnot\u001b[39;00m \u001b[39mNone\u001b[39;00m):\n\u001b[0;32m---> <a href='vscode-notebook-cell:/Users/paolobonicco/virtual-envs/tln-2022-third-part-lab/es7_fruttaconlaM/fruttaconlaM.ipynb#ch0000013?line=24'>25</a>\u001b[0m     hypo_list \u001b[39m=\u001b[39m \u001b[39mlist\u001b[39m(\u001b[39mset\u001b[39m([get_synset(w) \u001b[39mfor\u001b[39;00m s \u001b[39min\u001b[39;00m syn\u001b[39m.\u001b[39;49mclosure(\u001b[39mlambda\u001b[39;00m s:s\u001b[39m.\u001b[39mhyponyms()) \u001b[39mfor\u001b[39;00m w \u001b[39min\u001b[39;00m s\u001b[39m.\u001b[39mlemma_names()]))\n\u001b[1;32m     <a href='vscode-notebook-cell:/Users/paolobonicco/virtual-envs/tln-2022-third-part-lab/es7_fruttaconlaM/fruttaconlaM.ipynb#ch0000013?line=25'>26</a>\u001b[0m \u001b[39mreturn\u001b[39;00m hypo_list\n",
      "\u001b[0;31mAttributeError\u001b[0m: 'list' object has no attribute 'closure'"
     ]
    }
   ],
   "source": [
    "right_hypers = get_cat_hypers(CATEGORIES)\n",
    "\n",
    "right_hypers = [x for xs in right_hypers for x in xs]\n",
    "\n",
    "for el in right_hypers:\n",
    "    print(get_hypos_from_syn(el))\n"
   ]
  },
  {
   "cell_type": "code",
   "execution_count": null,
   "metadata": {},
   "outputs": [
    {
     "name": "stdout",
     "output_type": "stream",
     "text": [
      "Welcome to the Game!\n",
      "Tell me a fruit starting with letter ...\n",
      "R\n"
     ]
    },
    {
     "ename": "AttributeError",
     "evalue": "'list' object has no attribute 'lower'",
     "output_type": "error",
     "traceback": [
      "\u001b[0;31m---------------------------------------------------------------------------\u001b[0m",
      "\u001b[0;31mAttributeError\u001b[0m                            Traceback (most recent call last)",
      "\u001b[1;32m/Users/paolobonicco/virtual-envs/tln-2022-third-part-lab/es7_fruttaconlaM/fruttaconlaM.ipynb Cell 12\u001b[0m in \u001b[0;36m<cell line: 1>\u001b[0;34m()\u001b[0m\n\u001b[0;32m----> <a href='vscode-notebook-cell:/Users/paolobonicco/virtual-envs/tln-2022-third-part-lab/es7_fruttaconlaM/fruttaconlaM.ipynb#ch0000012?line=0'>1</a>\u001b[0m game()\n",
      "\u001b[1;32m/Users/paolobonicco/virtual-envs/tln-2022-third-part-lab/es7_fruttaconlaM/fruttaconlaM.ipynb Cell 12\u001b[0m in \u001b[0;36mgame\u001b[0;34m()\u001b[0m\n\u001b[1;32m     <a href='vscode-notebook-cell:/Users/paolobonicco/virtual-envs/tln-2022-third-part-lab/es7_fruttaconlaM/fruttaconlaM.ipynb#ch0000012?line=51'>52</a>\u001b[0m \u001b[39mprint\u001b[39m(\u001b[39mf\u001b[39m\u001b[39m\"\u001b[39m\u001b[39m{\u001b[39;00mletter\u001b[39m.\u001b[39mcapitalize()\u001b[39m}\u001b[39;00m\u001b[39m\"\u001b[39m)\n\u001b[1;32m     <a href='vscode-notebook-cell:/Users/paolobonicco/virtual-envs/tln-2022-third-part-lab/es7_fruttaconlaM/fruttaconlaM.ipynb#ch0000012?line=52'>53</a>\u001b[0m fruit \u001b[39m=\u001b[39m \u001b[39minput\u001b[39m()\n\u001b[0;32m---> <a href='vscode-notebook-cell:/Users/paolobonicco/virtual-envs/tln-2022-third-part-lab/es7_fruttaconlaM/fruttaconlaM.ipynb#ch0000012?line=53'>54</a>\u001b[0m hyponyms \u001b[39m=\u001b[39m find_right_hypos(CATEGORIES)\n\u001b[1;32m     <a href='vscode-notebook-cell:/Users/paolobonicco/virtual-envs/tln-2022-third-part-lab/es7_fruttaconlaM/fruttaconlaM.ipynb#ch0000012?line=54'>55</a>\u001b[0m \u001b[39mprint\u001b[39m(search_elem(wn\u001b[39m.\u001b[39msynsets(fruit), hyponyms, letter))\n",
      "\u001b[1;32m/Users/paolobonicco/virtual-envs/tln-2022-third-part-lab/es7_fruttaconlaM/fruttaconlaM.ipynb Cell 12\u001b[0m in \u001b[0;36mfind_right_hypos\u001b[0;34m(category)\u001b[0m\n\u001b[1;32m     <a href='vscode-notebook-cell:/Users/paolobonicco/virtual-envs/tln-2022-third-part-lab/es7_fruttaconlaM/fruttaconlaM.ipynb#ch0000012?line=18'>19</a>\u001b[0m \u001b[39mdef\u001b[39;00m \u001b[39mfind_right_hypos\u001b[39m(category):\n\u001b[1;32m     <a href='vscode-notebook-cell:/Users/paolobonicco/virtual-envs/tln-2022-third-part-lab/es7_fruttaconlaM/fruttaconlaM.ipynb#ch0000012?line=19'>20</a>\u001b[0m     \u001b[39m'''\u001b[39;00m\n\u001b[1;32m     <a href='vscode-notebook-cell:/Users/paolobonicco/virtual-envs/tln-2022-third-part-lab/es7_fruttaconlaM/fruttaconlaM.ipynb#ch0000012?line=20'>21</a>\u001b[0m \u001b[39m    Return a list of synset that are hyponyms of the category (fruit)\u001b[39;00m\n\u001b[1;32m     <a href='vscode-notebook-cell:/Users/paolobonicco/virtual-envs/tln-2022-third-part-lab/es7_fruttaconlaM/fruttaconlaM.ipynb#ch0000012?line=21'>22</a>\u001b[0m \u001b[39m    and contain the words in the category. \u001b[39;00m\n\u001b[1;32m     <a href='vscode-notebook-cell:/Users/paolobonicco/virtual-envs/tln-2022-third-part-lab/es7_fruttaconlaM/fruttaconlaM.ipynb#ch0000012?line=22'>23</a>\u001b[0m \u001b[39m    Basically goes to filter out all hyponyms of fruit and just keep the ones\u001b[39;00m\n\u001b[1;32m     <a href='vscode-notebook-cell:/Users/paolobonicco/virtual-envs/tln-2022-third-part-lab/es7_fruttaconlaM/fruttaconlaM.ipynb#ch0000012?line=23'>24</a>\u001b[0m \u001b[39m    that contain the words in the category.\u001b[39;00m\n\u001b[1;32m     <a href='vscode-notebook-cell:/Users/paolobonicco/virtual-envs/tln-2022-third-part-lab/es7_fruttaconlaM/fruttaconlaM.ipynb#ch0000012?line=24'>25</a>\u001b[0m \u001b[39m    '''\u001b[39;00m\n\u001b[0;32m---> <a href='vscode-notebook-cell:/Users/paolobonicco/virtual-envs/tln-2022-third-part-lab/es7_fruttaconlaM/fruttaconlaM.ipynb#ch0000012?line=25'>26</a>\u001b[0m     hyponyms \u001b[39m=\u001b[39m get_hypos(category[\u001b[39m0\u001b[39;49m]) \u001b[39m# list of all the hyponyms of \"fruit\"\u001b[39;00m\n\u001b[1;32m     <a href='vscode-notebook-cell:/Users/paolobonicco/virtual-envs/tln-2022-third-part-lab/es7_fruttaconlaM/fruttaconlaM.ipynb#ch0000012?line=26'>27</a>\u001b[0m     syn_list \u001b[39m=\u001b[39m []\n\u001b[1;32m     <a href='vscode-notebook-cell:/Users/paolobonicco/virtual-envs/tln-2022-third-part-lab/es7_fruttaconlaM/fruttaconlaM.ipynb#ch0000012?line=27'>28</a>\u001b[0m     \u001b[39mfor\u001b[39;00m word \u001b[39min\u001b[39;00m category[\u001b[39m1\u001b[39m:]:\n",
      "\u001b[1;32m/Users/paolobonicco/virtual-envs/tln-2022-third-part-lab/es7_fruttaconlaM/fruttaconlaM.ipynb Cell 12\u001b[0m in \u001b[0;36mget_hypos\u001b[0;34m(word)\u001b[0m\n\u001b[1;32m      <a href='vscode-notebook-cell:/Users/paolobonicco/virtual-envs/tln-2022-third-part-lab/es7_fruttaconlaM/fruttaconlaM.ipynb#ch0000012?line=8'>9</a>\u001b[0m \u001b[39mdef\u001b[39;00m \u001b[39mget_hypos\u001b[39m(word):\n\u001b[1;32m     <a href='vscode-notebook-cell:/Users/paolobonicco/virtual-envs/tln-2022-third-part-lab/es7_fruttaconlaM/fruttaconlaM.ipynb#ch0000012?line=9'>10</a>\u001b[0m     \u001b[39m'''\u001b[39;00m\n\u001b[1;32m     <a href='vscode-notebook-cell:/Users/paolobonicco/virtual-envs/tln-2022-third-part-lab/es7_fruttaconlaM/fruttaconlaM.ipynb#ch0000012?line=10'>11</a>\u001b[0m \u001b[39m    Return all the hyponyms of a word.\u001b[39;00m\n\u001b[1;32m     <a href='vscode-notebook-cell:/Users/paolobonicco/virtual-envs/tln-2022-third-part-lab/es7_fruttaconlaM/fruttaconlaM.ipynb#ch0000012?line=11'>12</a>\u001b[0m \u001b[39m    '''\u001b[39;00m\n\u001b[0;32m---> <a href='vscode-notebook-cell:/Users/paolobonicco/virtual-envs/tln-2022-third-part-lab/es7_fruttaconlaM/fruttaconlaM.ipynb#ch0000012?line=12'>13</a>\u001b[0m     syn \u001b[39m=\u001b[39m get_synset(word)\n\u001b[1;32m     <a href='vscode-notebook-cell:/Users/paolobonicco/virtual-envs/tln-2022-third-part-lab/es7_fruttaconlaM/fruttaconlaM.ipynb#ch0000012?line=13'>14</a>\u001b[0m     hypo_list \u001b[39m=\u001b[39m []\n\u001b[1;32m     <a href='vscode-notebook-cell:/Users/paolobonicco/virtual-envs/tln-2022-third-part-lab/es7_fruttaconlaM/fruttaconlaM.ipynb#ch0000012?line=14'>15</a>\u001b[0m     \u001b[39mif\u001b[39;00m(syn \u001b[39mis\u001b[39;00m \u001b[39mnot\u001b[39;00m \u001b[39mNone\u001b[39;00m):\n",
      "\u001b[1;32m/Users/paolobonicco/virtual-envs/tln-2022-third-part-lab/es7_fruttaconlaM/fruttaconlaM.ipynb Cell 12\u001b[0m in \u001b[0;36mget_synset\u001b[0;34m(word)\u001b[0m\n\u001b[1;32m      <a href='vscode-notebook-cell:/Users/paolobonicco/virtual-envs/tln-2022-third-part-lab/es7_fruttaconlaM/fruttaconlaM.ipynb#ch0000012?line=0'>1</a>\u001b[0m \u001b[39mdef\u001b[39;00m \u001b[39mget_synset\u001b[39m(word):\n\u001b[1;32m      <a href='vscode-notebook-cell:/Users/paolobonicco/virtual-envs/tln-2022-third-part-lab/es7_fruttaconlaM/fruttaconlaM.ipynb#ch0000012?line=1'>2</a>\u001b[0m     \u001b[39m'''\u001b[39;00m\n\u001b[1;32m      <a href='vscode-notebook-cell:/Users/paolobonicco/virtual-envs/tln-2022-third-part-lab/es7_fruttaconlaM/fruttaconlaM.ipynb#ch0000012?line=2'>3</a>\u001b[0m \u001b[39m    Retrurn the first synset of a word.\u001b[39;00m\n\u001b[1;32m      <a href='vscode-notebook-cell:/Users/paolobonicco/virtual-envs/tln-2022-third-part-lab/es7_fruttaconlaM/fruttaconlaM.ipynb#ch0000012?line=3'>4</a>\u001b[0m \u001b[39m    '''\u001b[39;00m\n\u001b[0;32m----> <a href='vscode-notebook-cell:/Users/paolobonicco/virtual-envs/tln-2022-third-part-lab/es7_fruttaconlaM/fruttaconlaM.ipynb#ch0000012?line=4'>5</a>\u001b[0m     \u001b[39mif\u001b[39;00m(\u001b[39mlen\u001b[39m(wn\u001b[39m.\u001b[39;49msynsets(word)) \u001b[39m>\u001b[39m \u001b[39m0\u001b[39m):\n\u001b[1;32m      <a href='vscode-notebook-cell:/Users/paolobonicco/virtual-envs/tln-2022-third-part-lab/es7_fruttaconlaM/fruttaconlaM.ipynb#ch0000012?line=5'>6</a>\u001b[0m         \u001b[39mreturn\u001b[39;00m wn\u001b[39m.\u001b[39msynsets(word)[\u001b[39m0\u001b[39m]\n\u001b[1;32m      <a href='vscode-notebook-cell:/Users/paolobonicco/virtual-envs/tln-2022-third-part-lab/es7_fruttaconlaM/fruttaconlaM.ipynb#ch0000012?line=6'>7</a>\u001b[0m     \u001b[39mreturn\u001b[39;00m \u001b[39mNone\u001b[39;00m\n",
      "File \u001b[0;32m~/virtual-envs/tln-2022-third-part-lab/venvdicaro/lib/python3.10/site-packages/nltk/corpus/reader/wordnet.py:1693\u001b[0m, in \u001b[0;36mWordNetCorpusReader.synsets\u001b[0;34m(self, lemma, pos, lang, check_exceptions)\u001b[0m\n\u001b[1;32m   1686\u001b[0m \u001b[39mdef\u001b[39;00m \u001b[39msynsets\u001b[39m(\u001b[39mself\u001b[39m, lemma, pos\u001b[39m=\u001b[39m\u001b[39mNone\u001b[39;00m, lang\u001b[39m=\u001b[39m\u001b[39m\"\u001b[39m\u001b[39meng\u001b[39m\u001b[39m\"\u001b[39m, check_exceptions\u001b[39m=\u001b[39m\u001b[39mTrue\u001b[39;00m):\n\u001b[1;32m   1687\u001b[0m     \u001b[39m\"\"\"Load all synsets with a given lemma and part of speech tag.\u001b[39;00m\n\u001b[1;32m   1688\u001b[0m \u001b[39m    If no pos is specified, all synsets for all parts of speech\u001b[39;00m\n\u001b[1;32m   1689\u001b[0m \u001b[39m    will be loaded.\u001b[39;00m\n\u001b[1;32m   1690\u001b[0m \u001b[39m    If lang is specified, all the synsets associated with the lemma name\u001b[39;00m\n\u001b[1;32m   1691\u001b[0m \u001b[39m    of that language will be returned.\u001b[39;00m\n\u001b[1;32m   1692\u001b[0m \u001b[39m    \"\"\"\u001b[39;00m\n\u001b[0;32m-> 1693\u001b[0m     lemma \u001b[39m=\u001b[39m lemma\u001b[39m.\u001b[39;49mlower()\n\u001b[1;32m   1695\u001b[0m     \u001b[39mif\u001b[39;00m lang \u001b[39m==\u001b[39m \u001b[39m\"\u001b[39m\u001b[39meng\u001b[39m\u001b[39m\"\u001b[39m:\n\u001b[1;32m   1696\u001b[0m         get_synset \u001b[39m=\u001b[39m \u001b[39mself\u001b[39m\u001b[39m.\u001b[39msynset_from_pos_and_offset\n",
      "\u001b[0;31mAttributeError\u001b[0m: 'list' object has no attribute 'lower'"
     ]
    }
   ],
   "source": [
    "game()"
   ]
  }
 ],
 "metadata": {
  "kernelspec": {
   "display_name": "Python 3.10.4 ('venvdicaro': venv)",
   "language": "python",
   "name": "python3"
  },
  "language_info": {
   "codemirror_mode": {
    "name": "ipython",
    "version": 3
   },
   "file_extension": ".py",
   "mimetype": "text/x-python",
   "name": "python",
   "nbconvert_exporter": "python",
   "pygments_lexer": "ipython3",
   "version": "3.10.4"
  },
  "orig_nbformat": 4,
  "vscode": {
   "interpreter": {
    "hash": "3fc711e4ee2b6550a1e55fb58a23702f691a325dedbbea2e10fa55c056de4b98"
   }
  }
 },
 "nbformat": 4,
 "nbformat_minor": 2
}
