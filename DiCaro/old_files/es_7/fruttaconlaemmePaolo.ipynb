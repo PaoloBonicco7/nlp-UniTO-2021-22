{
 "cells": [
  {
   "cell_type": "markdown",
   "metadata": {},
   "source": [
    "## Consegna\n",
    "\n",
    "Dato un campo (es. frutta o supermercato) e una lettera il siste"
   ]
  },
  {
   "cell_type": "code",
   "execution_count": 97,
   "metadata": {},
   "outputs": [
    {
     "name": "stdout",
     "output_type": "stream",
     "text": [
      "Synset('edible_fruit.n.01')\n",
      "Synset('edible_fruit.n.01')\n",
      "Synset('herb.n.01')\n",
      "Synset('fruit_tree.n.01')\n",
      "Synset('whole.n.02')\n"
     ]
    },
    {
     "data": {
      "text/plain": [
       "[Synset('physical_entity.n.01')]"
      ]
     },
     "execution_count": 97,
     "metadata": {},
     "output_type": "execute_result"
    }
   ],
   "source": [
    "from nltk.corpus import wordnet as wn\n",
    "import random\n",
    "\n",
    "# Create memory structure, will be used to find the right synset for the category\n",
    "CATEGORY = {\"fruit\":[\"apple\", \"banana\", \"peach\"], \"animal\":[\"dog\", \"cat\", \"horse\"]}\n",
    "\n",
    "# pick a random item from category\n",
    "cat = random.choice(list(CATEGORY.items()))\n",
    "# input_ = input(f\"Enter a word of the category {cat[0]}: \")\n",
    "\n",
    "# Salvo il synset della categoria (es.fruit)\n",
    "start_synset = wn.synsets(cat[0])[0]\n",
    "\n",
    "# Vado a ricavare il synset della categoria tramite il lowest common hypernyms delle parole della memoria\n",
    "mem_list = cat[1]\n",
    "mem_syns_list = []\n",
    "\n",
    "for el in mem_list:\n",
    "    mem_syns_list.append(wn.synsets(el)[0])\n",
    "\n",
    "main_syns = mem_syns_list[0].hypernyms()[0]\n",
    "\n",
    "print(main_syns)\n",
    "\n",
    "for el in mem_syns_list:\n",
    "    main_syns = main_syns.lowest_common_hypernyms(el)[0]\n",
    "    print(el.hypernyms()[0])\n",
    "\n",
    "print(main_syns)\n",
    "    \n",
    "'''    \n",
    "dog.lowest_common_hypernyms(cat)\n",
    "cat.lowest_common_hypernyms(mouse)\n",
    "dog.lowest_common_hypernyms(mouse)\n",
    "\n",
    "placental = dog.lowest_common_hypernyms(mouse)[0]\n",
    "carnivore = dog.lowest_common_hypernyms(cat)[0]\n",
    "placental.lowest_common_hypernyms(carnivore)\n",
    "'''\n",
    "\n",
    "wn.synset('feline.n.01').lowest_common_hypernyms(wn.synset('canine.n.01'))\n",
    "\n"
   ]
  },
  {
   "cell_type": "code",
   "execution_count": null,
   "metadata": {},
   "outputs": [],
   "source": []
  }
 ],
 "metadata": {
  "interpreter": {
   "hash": "3fc711e4ee2b6550a1e55fb58a23702f691a325dedbbea2e10fa55c056de4b98"
  },
  "kernelspec": {
   "display_name": "Python 3.10.4 ('venvdicaro': venv)",
   "language": "python",
   "name": "python3"
  },
  "language_info": {
   "codemirror_mode": {
    "name": "ipython",
    "version": 3
   },
   "file_extension": ".py",
   "mimetype": "text/x-python",
   "name": "python",
   "nbconvert_exporter": "python",
   "pygments_lexer": "ipython3",
   "version": "3.10.4"
  },
  "orig_nbformat": 4
 },
 "nbformat": 4,
 "nbformat_minor": 2
}
