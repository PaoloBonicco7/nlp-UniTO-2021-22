{
 "cells": [
  {
   "cell_type": "markdown",
   "metadata": {},
   "source": [
    "# Ghigliottina\n",
    "\n",
    "La CPU genera 5 parole random e poi va a cercare il lowest_common_hypernyms synset, se la parola dell'utente è un iponimo\n",
    "del synset ottenuto allora la risposta è corretta."
   ]
  },
  {
   "cell_type": "markdown",
   "metadata": {},
   "source": [
    "### Codice d'esempio utile per svolgere l'esercizio"
   ]
  },
  {
   "cell_type": "code",
   "execution_count": null,
   "metadata": {},
   "outputs": [],
   "source": [
    "from nltk.corpus import wordnet as wn\n",
    "\n",
    "fruit = 'fruit'\n",
    "apple = 'apple'\n",
    "\n",
    "wn.synsets(fruit)\n",
    "wn.synsets(apple)\n",
    "\n",
    "apple = wn.synsets(apple)[0]\n",
    "fruit = wn.synsets(fruit)[0]\n",
    "\n",
    "# Ritorna True se è un iponimo diretto\n",
    "apple in fruit.hyponyms() # False\n",
    "\n",
    "# Ritorna True se è un iponimo\n",
    "hypofruits = set([i for i in fruit.closure(lambda s:s.hyponyms())]) \n",
    "apple in hypofruits # True\n",
    "\n",
    "# Synset to word\n",
    "[str(lemma.name()) for lemma in wn.synset('dog.n.01').lemmas()]"
   ]
  },
  {
   "cell_type": "markdown",
   "metadata": {},
   "source": [
    "## Per generare l'insieme di 6 parole psrtiamo dalla root dell'albero di wordnet e scendiamo fino a trovare un insieme di iponimi < 30"
   ]
  },
  {
   "cell_type": "code",
   "execution_count": null,
   "metadata": {},
   "outputs": [],
   "source": [
    "from nltk.corpus import wordnet as wn\n",
    "import random"
   ]
  },
  {
   "cell_type": "markdown",
   "metadata": {},
   "source": [
    "Generiamo i 74373 iponimi di entity"
   ]
  },
  {
   "cell_type": "code",
   "execution_count": null,
   "metadata": {},
   "outputs": [],
   "source": [
    "root = wn.synset('entity.n.01').root_hypernyms()[0]\n",
    "\n",
    "hypo_list = set([i for i in root.closure(lambda s:s.hyponyms())]) "
   ]
  },
  {
   "cell_type": "markdown",
   "metadata": {},
   "source": [
    "Andiamo a selezionare un synset a caso, se quel synset ha più di 30 iponimi allora lo selezioniamo"
   ]
  },
  {
   "cell_type": "code",
   "execution_count": null,
   "metadata": {},
   "outputs": [],
   "source": [
    "hypo_list = set([i for i in root.closure(lambda s:s.hyponyms())]) \n",
    "\n",
    "# Genero indice a caso per pescare un synset dagli iponimi della root\n",
    "max =  len(hypo_list)-1\n",
    "i = random.randint(0, max) # 74373\n",
    "k = 0\n",
    "\n",
    "while len(hypo_list) > 12 and k < 1000000:\n",
    "    starting_syset = list(hypo_list)[i]\n",
    "    new_hypo_list = set([i for i in starting_syset.closure(lambda s:s.hyponyms())])\n",
    "    if(len(new_hypo_list) > 10):\n",
    "        hypo_list = new_hypo_list\n",
    "    \n",
    "    max = len(hypo_list)-1\n",
    "    i = random.randint(0, max)\n",
    "    \n",
    "    k = k+1        \n",
    "        \n",
    "print(hypo_list)\n",
    "print(k)"
   ]
  },
  {
   "cell_type": "code",
   "execution_count": null,
   "metadata": {},
   "outputs": [],
   "source": [
    "hypo_list = set([i for i in root.closure(lambda s:s.hyponyms())]) \n",
    "\n",
    "# Genero indice a caso per pescare un synset dagli iponimi della root\n",
    "max =  len(hypo_list)-1\n",
    "i = random.randint(0, max) # 74373\n",
    "k = 0\n",
    "\n",
    "while len(hypo_list) > 12 and k < 1000000:\n",
    "    starting_syset = list(hypo_list)[i]\n",
    "    new_hypo_list = set([i for i in starting_syset.closure(lambda s:s.hyponyms())])\n",
    "    if(len(new_hypo_list) > 10):\n",
    "        hypo_list = new_hypo_list\n",
    "    \n",
    "    max = len(hypo_list)-1\n",
    "    i = random.randint(0, max)\n",
    "    \n",
    "    k = k+1        \n",
    "        \n",
    "print(hypo_list)\n",
    "print(k)"
   ]
  },
  {
   "cell_type": "code",
   "execution_count": null,
   "metadata": {},
   "outputs": [],
   "source": [
    "# Scelgo una parola a caso da cui parte la generazione della lista di 6 parole\n",
    "\n",
    "starting_w = random.choice(s_words)\n",
    "\n",
    "# Scelgo un synset a caso \n",
    "start_syn = random.choice(wn.synsets(starting_w))\n",
    "\n",
    "hypo_list = set([i for i in str_syn.closure(lambda s:s.hyponyms())]) \n",
    "\n",
    "hypo = start_syn.hyponyms()\n",
    "\n",
    "print(hypo)\n",
    "\n",
    "# print(hypo_list)"
   ]
  },
  {
   "cell_type": "markdown",
   "metadata": {},
   "source": [
    "# Giochiamo un po' con BabelNet"
   ]
  },
  {
   "cell_type": "code",
   "execution_count": 1,
   "metadata": {},
   "outputs": [
    {
     "ename": "HTTPError",
     "evalue": "HTTP Error 403: Forbidden",
     "output_type": "error",
     "traceback": [
      "\u001b[0;31m---------------------------------------------------------------------------\u001b[0m",
      "\u001b[0;31mHTTPError\u001b[0m                                 Traceback (most recent call last)",
      "\u001b[1;32m/Users/paolobonicco/virtual-envs/tln-2022-third-part-lab/es6_ghigliottina/paolottina.ipynb Cell 13'\u001b[0m in \u001b[0;36m<cell line: 26>\u001b[0;34m()\u001b[0m\n\u001b[1;32m     <a href='vscode-notebook-cell:/Users/paolobonicco/virtual-envs/tln-2022-third-part-lab/es6_ghigliottina/paolottina.ipynb#ch0000012?line=23'>24</a>\u001b[0m request \u001b[39m=\u001b[39m Request(url, headers\u001b[39m=\u001b[39m{\u001b[39m'\u001b[39m\u001b[39mUser-Agent\u001b[39m\u001b[39m'\u001b[39m: \u001b[39m'\u001b[39m\u001b[39mMozilla/5.0\u001b[39m\u001b[39m'\u001b[39m})\n\u001b[1;32m     <a href='vscode-notebook-cell:/Users/paolobonicco/virtual-envs/tln-2022-third-part-lab/es6_ghigliottina/paolottina.ipynb#ch0000012?line=24'>25</a>\u001b[0m request\u001b[39m.\u001b[39madd_header(\u001b[39m'\u001b[39m\u001b[39mAccept-encoding\u001b[39m\u001b[39m'\u001b[39m, \u001b[39m'\u001b[39m\u001b[39mgzip\u001b[39m\u001b[39m'\u001b[39m)\n\u001b[0;32m---> <a href='vscode-notebook-cell:/Users/paolobonicco/virtual-envs/tln-2022-third-part-lab/es6_ghigliottina/paolottina.ipynb#ch0000012?line=25'>26</a>\u001b[0m response \u001b[39m=\u001b[39m urlo\u001b[39m.\u001b[39;49murlopen(request)\n\u001b[1;32m     <a href='vscode-notebook-cell:/Users/paolobonicco/virtual-envs/tln-2022-third-part-lab/es6_ghigliottina/paolottina.ipynb#ch0000012?line=27'>28</a>\u001b[0m \u001b[39mif\u001b[39;00m response\u001b[39m.\u001b[39minfo()\u001b[39m.\u001b[39mget(\u001b[39m'\u001b[39m\u001b[39mContent-Encoding\u001b[39m\u001b[39m'\u001b[39m) \u001b[39m==\u001b[39m \u001b[39m'\u001b[39m\u001b[39mgzip\u001b[39m\u001b[39m'\u001b[39m:\n\u001b[1;32m     <a href='vscode-notebook-cell:/Users/paolobonicco/virtual-envs/tln-2022-third-part-lab/es6_ghigliottina/paolottina.ipynb#ch0000012?line=28'>29</a>\u001b[0m         buf \u001b[39m=\u001b[39m StringIO( response\u001b[39m.\u001b[39mread())\n",
      "File \u001b[0;32m/opt/homebrew/Cellar/python@3.10/3.10.4/Frameworks/Python.framework/Versions/3.10/lib/python3.10/urllib/request.py:216\u001b[0m, in \u001b[0;36murlopen\u001b[0;34m(url, data, timeout, cafile, capath, cadefault, context)\u001b[0m\n\u001b[1;32m    214\u001b[0m \u001b[39melse\u001b[39;00m:\n\u001b[1;32m    215\u001b[0m     opener \u001b[39m=\u001b[39m _opener\n\u001b[0;32m--> 216\u001b[0m \u001b[39mreturn\u001b[39;00m opener\u001b[39m.\u001b[39;49mopen(url, data, timeout)\n",
      "File \u001b[0;32m/opt/homebrew/Cellar/python@3.10/3.10.4/Frameworks/Python.framework/Versions/3.10/lib/python3.10/urllib/request.py:525\u001b[0m, in \u001b[0;36mOpenerDirector.open\u001b[0;34m(self, fullurl, data, timeout)\u001b[0m\n\u001b[1;32m    523\u001b[0m \u001b[39mfor\u001b[39;00m processor \u001b[39min\u001b[39;00m \u001b[39mself\u001b[39m\u001b[39m.\u001b[39mprocess_response\u001b[39m.\u001b[39mget(protocol, []):\n\u001b[1;32m    524\u001b[0m     meth \u001b[39m=\u001b[39m \u001b[39mgetattr\u001b[39m(processor, meth_name)\n\u001b[0;32m--> 525\u001b[0m     response \u001b[39m=\u001b[39m meth(req, response)\n\u001b[1;32m    527\u001b[0m \u001b[39mreturn\u001b[39;00m response\n",
      "File \u001b[0;32m/opt/homebrew/Cellar/python@3.10/3.10.4/Frameworks/Python.framework/Versions/3.10/lib/python3.10/urllib/request.py:634\u001b[0m, in \u001b[0;36mHTTPErrorProcessor.http_response\u001b[0;34m(self, request, response)\u001b[0m\n\u001b[1;32m    631\u001b[0m \u001b[39m# According to RFC 2616, \"2xx\" code indicates that the client's\u001b[39;00m\n\u001b[1;32m    632\u001b[0m \u001b[39m# request was successfully received, understood, and accepted.\u001b[39;00m\n\u001b[1;32m    633\u001b[0m \u001b[39mif\u001b[39;00m \u001b[39mnot\u001b[39;00m (\u001b[39m200\u001b[39m \u001b[39m<\u001b[39m\u001b[39m=\u001b[39m code \u001b[39m<\u001b[39m \u001b[39m300\u001b[39m):\n\u001b[0;32m--> 634\u001b[0m     response \u001b[39m=\u001b[39m \u001b[39mself\u001b[39;49m\u001b[39m.\u001b[39;49mparent\u001b[39m.\u001b[39;49merror(\n\u001b[1;32m    635\u001b[0m         \u001b[39m'\u001b[39;49m\u001b[39mhttp\u001b[39;49m\u001b[39m'\u001b[39;49m, request, response, code, msg, hdrs)\n\u001b[1;32m    637\u001b[0m \u001b[39mreturn\u001b[39;00m response\n",
      "File \u001b[0;32m/opt/homebrew/Cellar/python@3.10/3.10.4/Frameworks/Python.framework/Versions/3.10/lib/python3.10/urllib/request.py:563\u001b[0m, in \u001b[0;36mOpenerDirector.error\u001b[0;34m(self, proto, *args)\u001b[0m\n\u001b[1;32m    561\u001b[0m \u001b[39mif\u001b[39;00m http_err:\n\u001b[1;32m    562\u001b[0m     args \u001b[39m=\u001b[39m (\u001b[39mdict\u001b[39m, \u001b[39m'\u001b[39m\u001b[39mdefault\u001b[39m\u001b[39m'\u001b[39m, \u001b[39m'\u001b[39m\u001b[39mhttp_error_default\u001b[39m\u001b[39m'\u001b[39m) \u001b[39m+\u001b[39m orig_args\n\u001b[0;32m--> 563\u001b[0m     \u001b[39mreturn\u001b[39;00m \u001b[39mself\u001b[39;49m\u001b[39m.\u001b[39;49m_call_chain(\u001b[39m*\u001b[39;49margs)\n",
      "File \u001b[0;32m/opt/homebrew/Cellar/python@3.10/3.10.4/Frameworks/Python.framework/Versions/3.10/lib/python3.10/urllib/request.py:496\u001b[0m, in \u001b[0;36mOpenerDirector._call_chain\u001b[0;34m(self, chain, kind, meth_name, *args)\u001b[0m\n\u001b[1;32m    494\u001b[0m \u001b[39mfor\u001b[39;00m handler \u001b[39min\u001b[39;00m handlers:\n\u001b[1;32m    495\u001b[0m     func \u001b[39m=\u001b[39m \u001b[39mgetattr\u001b[39m(handler, meth_name)\n\u001b[0;32m--> 496\u001b[0m     result \u001b[39m=\u001b[39m func(\u001b[39m*\u001b[39;49margs)\n\u001b[1;32m    497\u001b[0m     \u001b[39mif\u001b[39;00m result \u001b[39mis\u001b[39;00m \u001b[39mnot\u001b[39;00m \u001b[39mNone\u001b[39;00m:\n\u001b[1;32m    498\u001b[0m         \u001b[39mreturn\u001b[39;00m result\n",
      "File \u001b[0;32m/opt/homebrew/Cellar/python@3.10/3.10.4/Frameworks/Python.framework/Versions/3.10/lib/python3.10/urllib/request.py:643\u001b[0m, in \u001b[0;36mHTTPDefaultErrorHandler.http_error_default\u001b[0;34m(self, req, fp, code, msg, hdrs)\u001b[0m\n\u001b[1;32m    642\u001b[0m \u001b[39mdef\u001b[39;00m \u001b[39mhttp_error_default\u001b[39m(\u001b[39mself\u001b[39m, req, fp, code, msg, hdrs):\n\u001b[0;32m--> 643\u001b[0m     \u001b[39mraise\u001b[39;00m HTTPError(req\u001b[39m.\u001b[39mfull_url, code, msg, hdrs, fp)\n",
      "\u001b[0;31mHTTPError\u001b[0m: HTTP Error 403: Forbidden"
     ]
    }
   ],
   "source": [
    "import urllib\n",
    "import json\n",
    "import gzip\n",
    "import urllib.request as urlo\n",
    "from urllib.request import urlopen\n",
    "from urllib.request import Request, urlopen\n",
    "import urllib.request\n",
    "\n",
    "from io import StringIO\n",
    "\n",
    "service_url = 'https://babelnet.io/v6/getSynsetIds'\n",
    "\n",
    "lemma = 'mela'\n",
    "lang = 'IT'\n",
    "key  = '54827a0f-4925-4ec3-83c0-fdd178bbf50e'\n",
    "\n",
    "params = {\n",
    "        'lemma' : lemma,\n",
    "        'searchLang' : lang,\n",
    "        'key'  : key\n",
    "}\n",
    "\n",
    "url = service_url + '?' + urllib.parse.urlencode(params)\n",
    "request = Request(url, headers={'User-Agent': 'Mozilla/5.0'})\n",
    "request.add_header('Accept-encoding', 'gzip')\n",
    "response = urlo.urlopen(request)\n",
    "\n",
    "if response.info().get('Content-Encoding') == 'gzip':\n",
    "        buf = StringIO( response.read())\n",
    "        f = gzip.GzipFile(fileobj=buf)\n",
    "        data = json.loads(f.read())\n",
    "        for result in data:\n",
    "            print (result['id'])"
   ]
  },
  {
   "cell_type": "code",
   "execution_count": null,
   "metadata": {},
   "outputs": [],
   "source": [
    "from urllib.request import Request, urlopen\n",
    "\n",
    "req = Request('https://www.yahoo.com', headers={'User-Agent': 'Mozilla/5.0'})\n",
    "webpage = urlopen(req).read()"
   ]
  },
  {
   "cell_type": "code",
   "execution_count": null,
   "metadata": {},
   "outputs": [],
   "source": [
    "from urllib.request import Request, urlopen\n",
    "\n",
    "req = Request('http://www.cmegroup.com/')\n",
    "webpage = urlopen(req).read()"
   ]
  },
  {
   "cell_type": "code",
   "execution_count": null,
   "metadata": {},
   "outputs": [],
   "source": [
    "import urllib\n",
    "import urllib.parse\n",
    "import urllib.request as urlo\n",
    "import json\n",
    "import gzip\n",
    "\n",
    "from io import BytesIO\n",
    "\n",
    "service_url = 'https://babelnet.io/v6/getSynset'\n",
    "\n",
    "id = 'bn:00020263n'\n",
    "key  = '54827a0f-4925-4ec3-83c0-fdd178bbf50e'\n",
    "lang = 'IT'\n",
    "\n",
    "params = {\n",
    "    'id' : id,\n",
    "    'key'  : key,\n",
    "    'targetLang' : lang\n",
    "}\n",
    "\n",
    "url = service_url + '?' + urllib.parse.urlencode(params)\n",
    "request = urlo.Request(url, request.add_header('Accept-encoding', 'gzip'))\n",
    "response = urlo.urlopen(request)\n",
    "\n",
    "buf = None\n",
    "if response.info().get('Content-Encoding') == 'gzip':\n",
    "    buf = BytesIO(response.read())\n",
    "    f = gzip.GzipFile(fileobj=buf)\n",
    "    data = json.loads(f.read())\n",
    "\n",
    "    # retrieving BabelSense data\n",
    "    senses = data['senses']\n",
    "    for result in senses:\n",
    "        lemma = result.get('lemma')\n",
    "        language = result.get('language')\n",
    "        if language != None:\n",
    "            #print(str(language.encode('utf-8')) + \"\\t\" + str(lemma.encode('utf-8')))\n",
    "            print(f\"{str(language.encode('utf-8'))} \\t {str(lemma.encode('utf-8'))}\")\n",
    "\n",
    "    # retrieving BabelGloss data\n",
    "    glosses = data['glosses']\n",
    "    for result in glosses:\n",
    "        gloss = result.get('gloss')\n",
    "        language = result.get('language')\n",
    "        if language != None:\n",
    "            #print(str(language.encode('utf-8')) + \"\\t\" + str(gloss.encode('utf-8')))\n",
    "            print(f\"{str(language.encode('utf-8'))} \\t {str(gloss.encode('utf-8'))}\")"
   ]
  },
  {
   "cell_type": "code",
   "execution_count": 4,
   "metadata": {},
   "outputs": [],
   "source": [
    "import urllib.parse as up\n",
    "import urllib.request as ur\n",
    "import json\n",
    "import gzip\n",
    "from io import BytesIO\n",
    "\n",
    "WORDS_1 = ['pneumatico', 'volante', 'freno a mano']\n",
    "\n",
    "def get_indexes_by_word(word):\n",
    "    service_url = 'https://babelnet.io/v6/getSynsetIds'\n",
    "\n",
    "    lemma = word\n",
    "    lang = 'IT'\n",
    "    key  = '54827a0f-4925-4ec3-83c0-fdd178bbf50e'\n",
    "\n",
    "    params = {\n",
    "            'lemma' : lemma,\n",
    "            'searchLang' : lang,\n",
    "            'key'  : key\n",
    "    }\n",
    "\n",
    "    url = service_url + '?' + up.urlencode(params)\n",
    "    request = ur.Request(url)\n",
    "    request.add_header('Accept-encoding', 'gzip')\n",
    "    response = ur.urlopen(request)\n",
    "\n",
    "    if response.info().get('Content-Encoding') == 'gzip':\n",
    "            buf = BytesIO( response.read())\n",
    "            f = gzip.GzipFile(fileobj=buf)\n",
    "            data = json.loads(f.read())\n",
    "            for result in data:\n",
    "                    return result['id']\n",
    "\n",
    "\n",
    "def get_synset_by_id(id):\n",
    "    service_url = 'https://babelnet.io/v6/getSynset'\n",
    "\n",
    "    key  = '54827a0f-4925-4ec3-83c0-fdd178bbf50e'\n",
    "\n",
    "    params = {\n",
    "        'id' : id,\n",
    "        'key'  : key,\n",
    "        'targetLang' : 'IT'\n",
    "    }\n",
    "\n",
    "    url = service_url + '?' + up.urlencode(params)\n",
    "\n",
    "    request = ur.Request(url)\n",
    "    request.add_header('Accept-encoding', 'gzip')\n",
    "    response = ur.urlopen(request)\n",
    "    \n",
    "    if response.info().get('Content-Encoding') == 'gzip':\n",
    "        buf = BytesIO(response.read())\n",
    "        f = gzip.GzipFile(fileobj=buf)\n",
    "        data = json.loads(f.read())\n",
    "\n",
    "        # retrieving BabelSense data\n",
    "        senses = data['senses']\n",
    "        for result in senses:\n",
    "            lemma = result.get('lemma')\n",
    "            language = result.get('language')\n",
    "            if language != None:    \n",
    "                print(str(language.encode('utf-8')) + \"\\t\" + str(lemma.encode('utf-8')))\n",
    "\n",
    "        print('\\n')\n",
    "        # retrieving BabelGloss data\n",
    "        glosses = data['glosses']\n",
    "        for result in glosses:\n",
    "            gloss = result.get('gloss')\n",
    "            language = result.get('language')\n",
    "            if language != None:\n",
    "                print(str(language.encode('utf-8')) + \"\\t\" + str(gloss.encode('utf-8')))\n",
    "\n",
    "        print('\\n')"
   ]
  },
  {
   "cell_type": "code",
   "execution_count": 5,
   "metadata": {},
   "outputs": [
    {
     "ename": "HTTPError",
     "evalue": "HTTP Error 403: Forbidden",
     "output_type": "error",
     "traceback": [
      "\u001b[0;31m---------------------------------------------------------------------------\u001b[0m",
      "\u001b[0;31mHTTPError\u001b[0m                                 Traceback (most recent call last)",
      "\u001b[1;32m/Users/paolobonicco/virtual-envs/tln-2022-third-part-lab/es6_ghigliottina/paolottina.ipynb Cell 18'\u001b[0m in \u001b[0;36m<cell line: 1>\u001b[0;34m()\u001b[0m\n\u001b[0;32m----> <a href='vscode-notebook-cell:/Users/paolobonicco/virtual-envs/tln-2022-third-part-lab/es6_ghigliottina/paolottina.ipynb#ch0000016?line=0'>1</a>\u001b[0m index \u001b[39m=\u001b[39m get_indexes_by_word(\u001b[39m\"\u001b[39;49m\u001b[39mmela\u001b[39;49m\u001b[39m\"\u001b[39;49m)\n\u001b[1;32m      <a href='vscode-notebook-cell:/Users/paolobonicco/virtual-envs/tln-2022-third-part-lab/es6_ghigliottina/paolottina.ipynb#ch0000016?line=1'>2</a>\u001b[0m \u001b[39mprint\u001b[39m(index)\n\u001b[1;32m      <a href='vscode-notebook-cell:/Users/paolobonicco/virtual-envs/tln-2022-third-part-lab/es6_ghigliottina/paolottina.ipynb#ch0000016?line=2'>3</a>\u001b[0m \u001b[39mif\u001b[39;00m index \u001b[39m!=\u001b[39m []:\n",
      "\u001b[1;32m/Users/paolobonicco/virtual-envs/tln-2022-third-part-lab/es6_ghigliottina/paolottina.ipynb Cell 17'\u001b[0m in \u001b[0;36mget_indexes_by_word\u001b[0;34m(word)\u001b[0m\n\u001b[1;32m     <a href='vscode-notebook-cell:/Users/paolobonicco/virtual-envs/tln-2022-third-part-lab/es6_ghigliottina/paolottina.ipynb#ch0000017?line=22'>23</a>\u001b[0m request \u001b[39m=\u001b[39m ur\u001b[39m.\u001b[39mRequest(url)\n\u001b[1;32m     <a href='vscode-notebook-cell:/Users/paolobonicco/virtual-envs/tln-2022-third-part-lab/es6_ghigliottina/paolottina.ipynb#ch0000017?line=23'>24</a>\u001b[0m request\u001b[39m.\u001b[39madd_header(\u001b[39m'\u001b[39m\u001b[39mAccept-encoding\u001b[39m\u001b[39m'\u001b[39m, \u001b[39m'\u001b[39m\u001b[39mgzip\u001b[39m\u001b[39m'\u001b[39m)\n\u001b[0;32m---> <a href='vscode-notebook-cell:/Users/paolobonicco/virtual-envs/tln-2022-third-part-lab/es6_ghigliottina/paolottina.ipynb#ch0000017?line=24'>25</a>\u001b[0m response \u001b[39m=\u001b[39m ur\u001b[39m.\u001b[39;49murlopen(request)\n\u001b[1;32m     <a href='vscode-notebook-cell:/Users/paolobonicco/virtual-envs/tln-2022-third-part-lab/es6_ghigliottina/paolottina.ipynb#ch0000017?line=26'>27</a>\u001b[0m \u001b[39mif\u001b[39;00m response\u001b[39m.\u001b[39minfo()\u001b[39m.\u001b[39mget(\u001b[39m'\u001b[39m\u001b[39mContent-Encoding\u001b[39m\u001b[39m'\u001b[39m) \u001b[39m==\u001b[39m \u001b[39m'\u001b[39m\u001b[39mgzip\u001b[39m\u001b[39m'\u001b[39m:\n\u001b[1;32m     <a href='vscode-notebook-cell:/Users/paolobonicco/virtual-envs/tln-2022-third-part-lab/es6_ghigliottina/paolottina.ipynb#ch0000017?line=27'>28</a>\u001b[0m         buf \u001b[39m=\u001b[39m BytesIO( response\u001b[39m.\u001b[39mread())\n",
      "File \u001b[0;32m/opt/homebrew/Cellar/python@3.10/3.10.4/Frameworks/Python.framework/Versions/3.10/lib/python3.10/urllib/request.py:216\u001b[0m, in \u001b[0;36murlopen\u001b[0;34m(url, data, timeout, cafile, capath, cadefault, context)\u001b[0m\n\u001b[1;32m    214\u001b[0m \u001b[39melse\u001b[39;00m:\n\u001b[1;32m    215\u001b[0m     opener \u001b[39m=\u001b[39m _opener\n\u001b[0;32m--> 216\u001b[0m \u001b[39mreturn\u001b[39;00m opener\u001b[39m.\u001b[39;49mopen(url, data, timeout)\n",
      "File \u001b[0;32m/opt/homebrew/Cellar/python@3.10/3.10.4/Frameworks/Python.framework/Versions/3.10/lib/python3.10/urllib/request.py:525\u001b[0m, in \u001b[0;36mOpenerDirector.open\u001b[0;34m(self, fullurl, data, timeout)\u001b[0m\n\u001b[1;32m    523\u001b[0m \u001b[39mfor\u001b[39;00m processor \u001b[39min\u001b[39;00m \u001b[39mself\u001b[39m\u001b[39m.\u001b[39mprocess_response\u001b[39m.\u001b[39mget(protocol, []):\n\u001b[1;32m    524\u001b[0m     meth \u001b[39m=\u001b[39m \u001b[39mgetattr\u001b[39m(processor, meth_name)\n\u001b[0;32m--> 525\u001b[0m     response \u001b[39m=\u001b[39m meth(req, response)\n\u001b[1;32m    527\u001b[0m \u001b[39mreturn\u001b[39;00m response\n",
      "File \u001b[0;32m/opt/homebrew/Cellar/python@3.10/3.10.4/Frameworks/Python.framework/Versions/3.10/lib/python3.10/urllib/request.py:634\u001b[0m, in \u001b[0;36mHTTPErrorProcessor.http_response\u001b[0;34m(self, request, response)\u001b[0m\n\u001b[1;32m    631\u001b[0m \u001b[39m# According to RFC 2616, \"2xx\" code indicates that the client's\u001b[39;00m\n\u001b[1;32m    632\u001b[0m \u001b[39m# request was successfully received, understood, and accepted.\u001b[39;00m\n\u001b[1;32m    633\u001b[0m \u001b[39mif\u001b[39;00m \u001b[39mnot\u001b[39;00m (\u001b[39m200\u001b[39m \u001b[39m<\u001b[39m\u001b[39m=\u001b[39m code \u001b[39m<\u001b[39m \u001b[39m300\u001b[39m):\n\u001b[0;32m--> 634\u001b[0m     response \u001b[39m=\u001b[39m \u001b[39mself\u001b[39;49m\u001b[39m.\u001b[39;49mparent\u001b[39m.\u001b[39;49merror(\n\u001b[1;32m    635\u001b[0m         \u001b[39m'\u001b[39;49m\u001b[39mhttp\u001b[39;49m\u001b[39m'\u001b[39;49m, request, response, code, msg, hdrs)\n\u001b[1;32m    637\u001b[0m \u001b[39mreturn\u001b[39;00m response\n",
      "File \u001b[0;32m/opt/homebrew/Cellar/python@3.10/3.10.4/Frameworks/Python.framework/Versions/3.10/lib/python3.10/urllib/request.py:563\u001b[0m, in \u001b[0;36mOpenerDirector.error\u001b[0;34m(self, proto, *args)\u001b[0m\n\u001b[1;32m    561\u001b[0m \u001b[39mif\u001b[39;00m http_err:\n\u001b[1;32m    562\u001b[0m     args \u001b[39m=\u001b[39m (\u001b[39mdict\u001b[39m, \u001b[39m'\u001b[39m\u001b[39mdefault\u001b[39m\u001b[39m'\u001b[39m, \u001b[39m'\u001b[39m\u001b[39mhttp_error_default\u001b[39m\u001b[39m'\u001b[39m) \u001b[39m+\u001b[39m orig_args\n\u001b[0;32m--> 563\u001b[0m     \u001b[39mreturn\u001b[39;00m \u001b[39mself\u001b[39;49m\u001b[39m.\u001b[39;49m_call_chain(\u001b[39m*\u001b[39;49margs)\n",
      "File \u001b[0;32m/opt/homebrew/Cellar/python@3.10/3.10.4/Frameworks/Python.framework/Versions/3.10/lib/python3.10/urllib/request.py:496\u001b[0m, in \u001b[0;36mOpenerDirector._call_chain\u001b[0;34m(self, chain, kind, meth_name, *args)\u001b[0m\n\u001b[1;32m    494\u001b[0m \u001b[39mfor\u001b[39;00m handler \u001b[39min\u001b[39;00m handlers:\n\u001b[1;32m    495\u001b[0m     func \u001b[39m=\u001b[39m \u001b[39mgetattr\u001b[39m(handler, meth_name)\n\u001b[0;32m--> 496\u001b[0m     result \u001b[39m=\u001b[39m func(\u001b[39m*\u001b[39;49margs)\n\u001b[1;32m    497\u001b[0m     \u001b[39mif\u001b[39;00m result \u001b[39mis\u001b[39;00m \u001b[39mnot\u001b[39;00m \u001b[39mNone\u001b[39;00m:\n\u001b[1;32m    498\u001b[0m         \u001b[39mreturn\u001b[39;00m result\n",
      "File \u001b[0;32m/opt/homebrew/Cellar/python@3.10/3.10.4/Frameworks/Python.framework/Versions/3.10/lib/python3.10/urllib/request.py:643\u001b[0m, in \u001b[0;36mHTTPDefaultErrorHandler.http_error_default\u001b[0;34m(self, req, fp, code, msg, hdrs)\u001b[0m\n\u001b[1;32m    642\u001b[0m \u001b[39mdef\u001b[39;00m \u001b[39mhttp_error_default\u001b[39m(\u001b[39mself\u001b[39m, req, fp, code, msg, hdrs):\n\u001b[0;32m--> 643\u001b[0m     \u001b[39mraise\u001b[39;00m HTTPError(req\u001b[39m.\u001b[39mfull_url, code, msg, hdrs, fp)\n",
      "\u001b[0;31mHTTPError\u001b[0m: HTTP Error 403: Forbidden"
     ]
    }
   ],
   "source": [
    "index = get_indexes_by_word(\"mela\")\n",
    "print(index)\n",
    "if index != []:\n",
    "    get_synset_by_id(index)"
   ]
  }
 ],
 "metadata": {
  "kernelspec": {
   "display_name": "Python 3.10.4 ('venvdicaro': venv)",
   "language": "python",
   "name": "python3"
  },
  "language_info": {
   "codemirror_mode": {
    "name": "ipython",
    "version": 3
   },
   "file_extension": ".py",
   "mimetype": "text/x-python",
   "name": "python",
   "nbconvert_exporter": "python",
   "pygments_lexer": "ipython3",
   "version": "3.10.4"
  },
  "orig_nbformat": 4,
  "vscode": {
   "interpreter": {
    "hash": "3fc711e4ee2b6550a1e55fb58a23702f691a325dedbbea2e10fa55c056de4b98"
   }
  }
 },
 "nbformat": 4,
 "nbformat_minor": 2
}
