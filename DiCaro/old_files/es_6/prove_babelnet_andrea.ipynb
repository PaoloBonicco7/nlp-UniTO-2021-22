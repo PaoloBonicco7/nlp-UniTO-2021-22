{
 "cells": [
  {
   "cell_type": "code",
   "execution_count": 32,
   "metadata": {},
   "outputs": [],
   "source": [
    "import urllib.parse as up\n",
    "import urllib.request as urlo\n",
    "import json\n",
    "import gzip\n",
    "from io import BytesIO\n",
    "#import babelnet as bn\n",
    "#print(stopwords.words('italian'))"
   ]
  },
  {
   "cell_type": "code",
   "execution_count": 33,
   "metadata": {},
   "outputs": [],
   "source": [
    "WORDS_1 = ['ammazzare', 'ingannare', 'pioggia', 'mele', 'spazio']"
   ]
  },
  {
   "cell_type": "markdown",
   "metadata": {},
   "source": [
    "### BABELNET"
   ]
  },
  {
   "cell_type": "code",
   "execution_count": 34,
   "metadata": {},
   "outputs": [],
   "source": [
    "def get_indexes_by_word(word):\n",
    "    service_url = 'https://babelnet.io/v6/getSynsetIds'\n",
    "\n",
    "    lemma = word\n",
    "    lang = 'IT'\n",
    "    key  = 'd4bc0872-d933-4516-b456-2063fa7d68ff'\n",
    "\n",
    "    params = {\n",
    "            'lemma' : lemma,\n",
    "            'searchLang' : lang,\n",
    "            'key'  : key\n",
    "    }\n",
    "\n",
    "    url = service_url + '?' + up.urlencode(params)\n",
    "    request = urlo.Request(url)\n",
    "    request.add_header('Accept-encoding', 'gzip')\n",
    "    response = urlo.urlopen(request)\n",
    "\n",
    "    if response.info().get('Content-Encoding') == 'gzip':\n",
    "            buf = BytesIO( response.read())\n",
    "            f = gzip.GzipFile(fileobj=buf)\n",
    "            data = json.loads(f.read())\n",
    "            for result in data:\n",
    "                return result['id']"
   ]
  },
  {
   "cell_type": "code",
   "execution_count": 35,
   "metadata": {},
   "outputs": [],
   "source": [
    "def get_synset_by_id(id):\n",
    "    service_url = 'https://babelnet.io/v6/getSynset'\n",
    "\n",
    "    key  = 'd4bc0872-d933-4516-b456-2063fa7d68ff'\n",
    "\n",
    "    params = {\n",
    "        'id' : id,\n",
    "        'key'  : key,\n",
    "        'targetLang' : 'IT'\n",
    "    }\n",
    "\n",
    "    url = service_url + '?' + up.urlencode(params)\n",
    "\n",
    "    request = urlo.Request(url)\n",
    "    request.add_header('Accept-encoding', 'gzip')\n",
    "    response = urlo.urlopen(request)\n",
    "    \n",
    "    if response.info().get('Content-Encoding') == 'gzip':\n",
    "        buf = BytesIO(response.read())\n",
    "        f = gzip.GzipFile(fileobj=buf)\n",
    "        data = json.loads(f.read())\n",
    "\n",
    "        # retrieving BabelSense data\n",
    "        senses = data['senses']\n",
    "        for result in senses:\n",
    "            lemma = result.get('lemma')\n",
    "            language = result.get('language')\n",
    "            if language != None:    \n",
    "                print(str(language.encode('utf-8')) + \"\\t\" + str(lemma.encode('utf-8')))\n",
    "\n",
    "        print('\\n')\n",
    "        # retrieving BabelGloss data\n",
    "        glosses = data['glosses']\n",
    "        for result in glosses:\n",
    "            gloss = result.get('gloss')\n",
    "            language = result.get('language')\n",
    "            if language != None:\n",
    "                print(str(language.encode('utf-8')) + \"\\t\" + str(gloss.encode('utf-8')))"
   ]
  },
  {
   "cell_type": "code",
   "execution_count": 36,
   "metadata": {},
   "outputs": [],
   "source": [
    "def get_hype_hypo_anto(id):\n",
    "    service_url = 'https://babelnet.io/v6/getOutgoingEdges'\n",
    "\n",
    "    key  = 'd4bc0872-d933-4516-b456-2063fa7d68ff'\n",
    "\n",
    "    params = {\n",
    "        'id' : id,\n",
    "        'key'  : key,\n",
    "        'targetLang' : 'IT'\n",
    "    }\n",
    "\n",
    "    url = service_url + '?' + up.urlencode(params)\n",
    "\n",
    "    request = urlo.Request(url)\n",
    "    request.add_header('Accept-encoding', 'gzip')\n",
    "    response = urlo.urlopen(request)\n",
    "\n",
    "    if response.info().get('Content-Encoding') == 'gzip':\n",
    "        buf = BytesIO( response.read())\n",
    "        f = gzip.GzipFile(fileobj=buf)\n",
    "        data = json.loads(f.read())\n",
    "\n",
    "        # retrieving Edges data\n",
    "        for result in data:\n",
    "            target = result.get('target')\n",
    "            language = result.get('language')\n",
    "\n",
    "            # retrieving BabelPointer data\n",
    "            pointer = result['pointer']\n",
    "            relation = pointer.get('name')\n",
    "            group = pointer.get('relationGroup')\n",
    "\n",
    "            # Types of relationGroup: HYPERNYM,  HYPONYM, MERONYM, HOLONYM, OTHER\n",
    "            if 'hypernym' in group.lower() or 'hyponym' in group.lower():\n",
    "                if get_synset_by_id(target) != None:\n",
    "                    print(f\"{get_synset_by_id(target)}   {str(relation)}   {str(group)}\")\n",
    "            elif 'antonym' in relation.lower():\n",
    "                if get_synset_by_id(target) != None:\n",
    "                    print(f\"{get_synset_by_id(target)}   {str(relation)}   {str(group)}\")"
   ]
  },
  {
   "cell_type": "code",
   "execution_count": 37,
   "metadata": {},
   "outputs": [],
   "source": [
    "def get_all_defs(words):\n",
    "    senses = []\n",
    "    for word in words:\n",
    "        id = get_indexes_by_word(word)\n",
    "        senses.append(get_synset_by_id(id))\n",
    "    return senses"
   ]
  },
  {
   "cell_type": "code",
   "execution_count": 38,
   "metadata": {},
   "outputs": [
    {
     "ename": "HTTPError",
     "evalue": "HTTP Error 403: Forbidden",
     "output_type": "error",
     "traceback": [
      "\u001b[1;31m---------------------------------------------------------------------------\u001b[0m",
      "\u001b[1;31mHTTPError\u001b[0m                                 Traceback (most recent call last)",
      "\u001b[1;32mc:\\Users\\andre\\Desktop\\Università\\Magistrale\\TLN\\PART 3\\tln-2022-third-part-lab\\es6_ghigliottina\\prove_babelnet_andrea.ipynb Cell 8'\u001b[0m in \u001b[0;36m<cell line: 1>\u001b[1;34m()\u001b[0m\n\u001b[1;32m----> <a href='vscode-notebook-cell:/c%3A/Users/andre/Desktop/Universit%C3%A0/Magistrale/TLN/PART%203/tln-2022-third-part-lab/es6_ghigliottina/prove_babelnet_andrea.ipynb#ch0000007?line=0'>1</a>\u001b[0m words1_senses \u001b[39m=\u001b[39m get_all_defs(WORDS_1)\n",
      "\u001b[1;32mc:\\Users\\andre\\Desktop\\Università\\Magistrale\\TLN\\PART 3\\tln-2022-third-part-lab\\es6_ghigliottina\\prove_babelnet_andrea.ipynb Cell 7'\u001b[0m in \u001b[0;36mget_all_defs\u001b[1;34m(words)\u001b[0m\n\u001b[0;32m      <a href='vscode-notebook-cell:/c%3A/Users/andre/Desktop/Universit%C3%A0/Magistrale/TLN/PART%203/tln-2022-third-part-lab/es6_ghigliottina/prove_babelnet_andrea.ipynb#ch0000006?line=1'>2</a>\u001b[0m senses \u001b[39m=\u001b[39m []\n\u001b[0;32m      <a href='vscode-notebook-cell:/c%3A/Users/andre/Desktop/Universit%C3%A0/Magistrale/TLN/PART%203/tln-2022-third-part-lab/es6_ghigliottina/prove_babelnet_andrea.ipynb#ch0000006?line=2'>3</a>\u001b[0m \u001b[39mfor\u001b[39;00m word \u001b[39min\u001b[39;00m words:\n\u001b[1;32m----> <a href='vscode-notebook-cell:/c%3A/Users/andre/Desktop/Universit%C3%A0/Magistrale/TLN/PART%203/tln-2022-third-part-lab/es6_ghigliottina/prove_babelnet_andrea.ipynb#ch0000006?line=3'>4</a>\u001b[0m     \u001b[39mid\u001b[39m \u001b[39m=\u001b[39m get_indexes_by_word(word)\n\u001b[0;32m      <a href='vscode-notebook-cell:/c%3A/Users/andre/Desktop/Universit%C3%A0/Magistrale/TLN/PART%203/tln-2022-third-part-lab/es6_ghigliottina/prove_babelnet_andrea.ipynb#ch0000006?line=4'>5</a>\u001b[0m     senses\u001b[39m.\u001b[39mappend(get_synset_by_id(\u001b[39mid\u001b[39m))\n\u001b[0;32m      <a href='vscode-notebook-cell:/c%3A/Users/andre/Desktop/Universit%C3%A0/Magistrale/TLN/PART%203/tln-2022-third-part-lab/es6_ghigliottina/prove_babelnet_andrea.ipynb#ch0000006?line=5'>6</a>\u001b[0m \u001b[39mreturn\u001b[39;00m senses\n",
      "\u001b[1;32mc:\\Users\\andre\\Desktop\\Università\\Magistrale\\TLN\\PART 3\\tln-2022-third-part-lab\\es6_ghigliottina\\prove_babelnet_andrea.ipynb Cell 4'\u001b[0m in \u001b[0;36mget_indexes_by_word\u001b[1;34m(word)\u001b[0m\n\u001b[0;32m     <a href='vscode-notebook-cell:/c%3A/Users/andre/Desktop/Universit%C3%A0/Magistrale/TLN/PART%203/tln-2022-third-part-lab/es6_ghigliottina/prove_babelnet_andrea.ipynb#ch0000003?line=14'>15</a>\u001b[0m request \u001b[39m=\u001b[39m urlo\u001b[39m.\u001b[39mRequest(url)\n\u001b[0;32m     <a href='vscode-notebook-cell:/c%3A/Users/andre/Desktop/Universit%C3%A0/Magistrale/TLN/PART%203/tln-2022-third-part-lab/es6_ghigliottina/prove_babelnet_andrea.ipynb#ch0000003?line=15'>16</a>\u001b[0m request\u001b[39m.\u001b[39madd_header(\u001b[39m'\u001b[39m\u001b[39mAccept-encoding\u001b[39m\u001b[39m'\u001b[39m, \u001b[39m'\u001b[39m\u001b[39mgzip\u001b[39m\u001b[39m'\u001b[39m)\n\u001b[1;32m---> <a href='vscode-notebook-cell:/c%3A/Users/andre/Desktop/Universit%C3%A0/Magistrale/TLN/PART%203/tln-2022-third-part-lab/es6_ghigliottina/prove_babelnet_andrea.ipynb#ch0000003?line=16'>17</a>\u001b[0m response \u001b[39m=\u001b[39m urlo\u001b[39m.\u001b[39;49murlopen(request)\n\u001b[0;32m     <a href='vscode-notebook-cell:/c%3A/Users/andre/Desktop/Universit%C3%A0/Magistrale/TLN/PART%203/tln-2022-third-part-lab/es6_ghigliottina/prove_babelnet_andrea.ipynb#ch0000003?line=18'>19</a>\u001b[0m \u001b[39mif\u001b[39;00m response\u001b[39m.\u001b[39minfo()\u001b[39m.\u001b[39mget(\u001b[39m'\u001b[39m\u001b[39mContent-Encoding\u001b[39m\u001b[39m'\u001b[39m) \u001b[39m==\u001b[39m \u001b[39m'\u001b[39m\u001b[39mgzip\u001b[39m\u001b[39m'\u001b[39m:\n\u001b[0;32m     <a href='vscode-notebook-cell:/c%3A/Users/andre/Desktop/Universit%C3%A0/Magistrale/TLN/PART%203/tln-2022-third-part-lab/es6_ghigliottina/prove_babelnet_andrea.ipynb#ch0000003?line=19'>20</a>\u001b[0m         buf \u001b[39m=\u001b[39m BytesIO( response\u001b[39m.\u001b[39mread())\n",
      "File \u001b[1;32mc:\\Users\\andre\\AppData\\Local\\Programs\\Python\\Python310\\lib\\urllib\\request.py:216\u001b[0m, in \u001b[0;36murlopen\u001b[1;34m(url, data, timeout, cafile, capath, cadefault, context)\u001b[0m\n\u001b[0;32m    214\u001b[0m \u001b[39melse\u001b[39;00m:\n\u001b[0;32m    215\u001b[0m     opener \u001b[39m=\u001b[39m _opener\n\u001b[1;32m--> 216\u001b[0m \u001b[39mreturn\u001b[39;00m opener\u001b[39m.\u001b[39;49mopen(url, data, timeout)\n",
      "File \u001b[1;32mc:\\Users\\andre\\AppData\\Local\\Programs\\Python\\Python310\\lib\\urllib\\request.py:525\u001b[0m, in \u001b[0;36mOpenerDirector.open\u001b[1;34m(self, fullurl, data, timeout)\u001b[0m\n\u001b[0;32m    523\u001b[0m \u001b[39mfor\u001b[39;00m processor \u001b[39min\u001b[39;00m \u001b[39mself\u001b[39m\u001b[39m.\u001b[39mprocess_response\u001b[39m.\u001b[39mget(protocol, []):\n\u001b[0;32m    524\u001b[0m     meth \u001b[39m=\u001b[39m \u001b[39mgetattr\u001b[39m(processor, meth_name)\n\u001b[1;32m--> 525\u001b[0m     response \u001b[39m=\u001b[39m meth(req, response)\n\u001b[0;32m    527\u001b[0m \u001b[39mreturn\u001b[39;00m response\n",
      "File \u001b[1;32mc:\\Users\\andre\\AppData\\Local\\Programs\\Python\\Python310\\lib\\urllib\\request.py:634\u001b[0m, in \u001b[0;36mHTTPErrorProcessor.http_response\u001b[1;34m(self, request, response)\u001b[0m\n\u001b[0;32m    631\u001b[0m \u001b[39m# According to RFC 2616, \"2xx\" code indicates that the client's\u001b[39;00m\n\u001b[0;32m    632\u001b[0m \u001b[39m# request was successfully received, understood, and accepted.\u001b[39;00m\n\u001b[0;32m    633\u001b[0m \u001b[39mif\u001b[39;00m \u001b[39mnot\u001b[39;00m (\u001b[39m200\u001b[39m \u001b[39m<\u001b[39m\u001b[39m=\u001b[39m code \u001b[39m<\u001b[39m \u001b[39m300\u001b[39m):\n\u001b[1;32m--> 634\u001b[0m     response \u001b[39m=\u001b[39m \u001b[39mself\u001b[39;49m\u001b[39m.\u001b[39;49mparent\u001b[39m.\u001b[39;49merror(\n\u001b[0;32m    635\u001b[0m         \u001b[39m'\u001b[39;49m\u001b[39mhttp\u001b[39;49m\u001b[39m'\u001b[39;49m, request, response, code, msg, hdrs)\n\u001b[0;32m    637\u001b[0m \u001b[39mreturn\u001b[39;00m response\n",
      "File \u001b[1;32mc:\\Users\\andre\\AppData\\Local\\Programs\\Python\\Python310\\lib\\urllib\\request.py:563\u001b[0m, in \u001b[0;36mOpenerDirector.error\u001b[1;34m(self, proto, *args)\u001b[0m\n\u001b[0;32m    561\u001b[0m \u001b[39mif\u001b[39;00m http_err:\n\u001b[0;32m    562\u001b[0m     args \u001b[39m=\u001b[39m (\u001b[39mdict\u001b[39m, \u001b[39m'\u001b[39m\u001b[39mdefault\u001b[39m\u001b[39m'\u001b[39m, \u001b[39m'\u001b[39m\u001b[39mhttp_error_default\u001b[39m\u001b[39m'\u001b[39m) \u001b[39m+\u001b[39m orig_args\n\u001b[1;32m--> 563\u001b[0m     \u001b[39mreturn\u001b[39;00m \u001b[39mself\u001b[39;49m\u001b[39m.\u001b[39;49m_call_chain(\u001b[39m*\u001b[39;49margs)\n",
      "File \u001b[1;32mc:\\Users\\andre\\AppData\\Local\\Programs\\Python\\Python310\\lib\\urllib\\request.py:496\u001b[0m, in \u001b[0;36mOpenerDirector._call_chain\u001b[1;34m(self, chain, kind, meth_name, *args)\u001b[0m\n\u001b[0;32m    494\u001b[0m \u001b[39mfor\u001b[39;00m handler \u001b[39min\u001b[39;00m handlers:\n\u001b[0;32m    495\u001b[0m     func \u001b[39m=\u001b[39m \u001b[39mgetattr\u001b[39m(handler, meth_name)\n\u001b[1;32m--> 496\u001b[0m     result \u001b[39m=\u001b[39m func(\u001b[39m*\u001b[39;49margs)\n\u001b[0;32m    497\u001b[0m     \u001b[39mif\u001b[39;00m result \u001b[39mis\u001b[39;00m \u001b[39mnot\u001b[39;00m \u001b[39mNone\u001b[39;00m:\n\u001b[0;32m    498\u001b[0m         \u001b[39mreturn\u001b[39;00m result\n",
      "File \u001b[1;32mc:\\Users\\andre\\AppData\\Local\\Programs\\Python\\Python310\\lib\\urllib\\request.py:643\u001b[0m, in \u001b[0;36mHTTPDefaultErrorHandler.http_error_default\u001b[1;34m(self, req, fp, code, msg, hdrs)\u001b[0m\n\u001b[0;32m    642\u001b[0m \u001b[39mdef\u001b[39;00m \u001b[39mhttp_error_default\u001b[39m(\u001b[39mself\u001b[39m, req, fp, code, msg, hdrs):\n\u001b[1;32m--> 643\u001b[0m     \u001b[39mraise\u001b[39;00m HTTPError(req\u001b[39m.\u001b[39mfull_url, code, msg, hdrs, fp)\n",
      "\u001b[1;31mHTTPError\u001b[0m: HTTP Error 403: Forbidden"
     ]
    }
   ],
   "source": [
    "words1_senses = get_all_defs(WORDS_1)"
   ]
  }
 ],
 "metadata": {
  "kernelspec": {
   "display_name": "Python 3.10.4 64-bit",
   "language": "python",
   "name": "python3"
  },
  "language_info": {
   "codemirror_mode": {
    "name": "ipython",
    "version": 3
   },
   "file_extension": ".py",
   "mimetype": "text/x-python",
   "name": "python",
   "nbconvert_exporter": "python",
   "pygments_lexer": "ipython3",
   "version": "3.10.4"
  },
  "orig_nbformat": 4,
  "vscode": {
   "interpreter": {
    "hash": "6847c98a8f86b01c6a19c518cd2f366693b80566b266804d5ca763cbb223f52b"
   }
  }
 },
 "nbformat": 4,
 "nbformat_minor": 2
}
