{
 "cells": [
  {
   "cell_type": "markdown",
   "metadata": {},
   "source": [
    "# Esercizio 6 - La Ghigliottina"
   ]
  },
  {
   "cell_type": "markdown",
   "metadata": {},
   "source": [
    "Questo esercizio è ispirato al gioco televisivo \"La Ghigliottina\", in cui il partecipante deve trovare la sesta parola date 5 parole.\n",
    "Il gioco si basa spesso su citazioni a modi di dire e/o titoli di canzoni, infatti il nostro dataset è stato creato seguendo questa\n",
    "caratteristica."
   ]
  },
  {
   "cell_type": "markdown",
   "metadata": {},
   "source": [
    "### Funzionamento e Dataset"
   ]
  },
  {
   "cell_type": "markdown",
   "metadata": {},
   "source": [
    "**ALGORITMO:** \n",
    "\n",
    "Il nostro algoritmo va a cercare le 5 parole in input all'interno del nostro dataset composto da frasi e va a salvare le frasi \n",
    "che contengono almeno una delle parole in input. Dopo di che si puliscono le frasi ottenute rimuovendo le stopwords e si salvano\n",
    "le parole in una strutture counter, così in una fase successiva possiamo estrarre il numero di volte che una parola occorre nella \n",
    "nostra lista. Dopo di che ritorniamo la parola che occorre più volte, che corrisponde alla sesta parola.\n",
    "\n",
    "**DATASET:** \n",
    "\n",
    "Il dataset è stato creato da noi mettendo insieme una lista di frasi tra cui:\n",
    "\n",
    "- Titoli di film\n",
    "  \n",
    "- Modi di dire\n",
    "- Titoli di canzoni"
   ]
  },
  {
   "cell_type": "markdown",
   "metadata": {},
   "source": [
    "### Esempio"
   ]
  },
  {
   "cell_type": "markdown",
   "metadata": {},
   "source": [
    "Per esempio date in input le seguenti parole:\n",
    "\n",
    "- ammazzare \n",
    "\n",
    "- ingannare \n",
    "- pioggia \n",
    "- mele \n",
    "- spazio\n",
    "\n",
    "La parola in questo caso è **tempo**:\n",
    "\n",
    "- *Ammazzare il **tempo***\n",
    "\n",
    "- *Ingannare il **tempo***\n",
    "- *Pioggia* è una condizione metereologica, anche detto **tempo**\n",
    "- ***Tempo** delle mele* è un modo di dire\n",
    "- *Lo spazio **tempo***\n",
    "\n",
    "Come possiamo vedere **tempo** in questo caso è la parola in relazione a tutte le altre"
   ]
  },
  {
   "cell_type": "markdown",
   "metadata": {},
   "source": [
    "### Imports and Constant"
   ]
  },
  {
   "cell_type": "code",
   "execution_count": 1,
   "metadata": {},
   "outputs": [],
   "source": [
    "from nltk.corpus import stopwords\n",
    "from time import sleep\n",
    "import random\n",
    "from collections import Counter"
   ]
  },
  {
   "cell_type": "code",
   "execution_count": 2,
   "metadata": {},
   "outputs": [],
   "source": [
    "WORDS_1 = ['ammazzare', 'ingannare', 'pioggia', 'mele', 'spazio']\n",
    "WORDS_2 = ['bicchiere', 'mulino', 'gocce', 'gola', 'buco']\n",
    "WORDS_3 = ['campa', 'battaglia', 'razza', 'Troia', 'vecchio']\n",
    "WORDS_4 = ['giallo', 'cane', 'scimmia', 'rubato', 'amore']\n",
    "WORDS_5 = ['attività', 'famiglia', 'rubato', 'fiume', 'nido']\n",
    "WORDS_6 = ['sangue', 'auto', 'vertigo', 'zucchero', 'cielo']\n",
    "WORDS_7 = ['vive', 'sangue', 'amore', 'volare', 'ride']\n",
    "WORDS_8 = ['sassolino', 'ciabatta', 'ginnastica', 'piedi', 'tacco']"
   ]
  },
  {
   "cell_type": "markdown",
   "metadata": {},
   "source": [
    "### Methods"
   ]
  },
  {
   "cell_type": "code",
   "execution_count": 3,
   "metadata": {},
   "outputs": [],
   "source": [
    "def remove_stop_words_ita(phrase):\n",
    "    stop_words = stopwords.words('italian')\n",
    "    phrase = phrase.split()\n",
    "    phrase = [word for word in phrase if word not in stop_words]\n",
    "    return phrase\n",
    "\n",
    "def check_dataset(path, words):\n",
    "    '''\n",
    "    Search the words in input in a list of sentences, \n",
    "    if there is a match in a sentences, the sentence is added to a list\n",
    "    after removing the stop words and the target word\n",
    "    '''\n",
    "    phrases = []    \n",
    "    with open(path, 'r') as file:\n",
    "        for line in file:\n",
    "            for word in words:\n",
    "                if word.lower() in line.lower():  # Save the sentence if there is a word in the words's list\n",
    "                    line = line.lower()\n",
    "                    line = line.replace(word, '')\n",
    "                    phrases.append(remove_stop_words_ita(line)) # Clean the results removing the stopwords\n",
    "    return phrases"
   ]
  },
  {
   "cell_type": "markdown",
   "metadata": {},
   "source": [
    "### Main and parameters"
   ]
  },
  {
   "cell_type": "code",
   "execution_count": 4,
   "metadata": {},
   "outputs": [
    {
     "name": "stdout",
     "output_type": "stream",
     "text": [
      "Le parole selezionate sono: ['sassolino', 'ciabatta', 'ginnastica', 'piedi', 'tacco']\n"
     ]
    }
   ],
   "source": [
    "path = '../data/ghigliottina.txt'\n",
    "list_words = [WORDS_1, WORDS_2, WORDS_3, WORDS_4, WORDS_5, WORDS_8]\n",
    "\n",
    "input_words = random.choice(list_words)\n",
    "\n",
    "print(\"Le parole selezionate sono:\", input_words)"
   ]
  },
  {
   "cell_type": "code",
   "execution_count": 6,
   "metadata": {},
   "outputs": [
    {
     "name": "stdout",
     "output_type": "stream",
     "text": [
      "The given words are: ['sassolino', 'ciabatta', 'ginnastica', 'piedi', 'tacco']\n",
      "\n",
      "Inserisci la risposta\n",
      "\n",
      "Purtroppo la tua risposta non è corretta. \n",
      "\n",
      "La sesta parola è\n",
      "\n",
      "... (suspense) ... \n",
      "\n",
      "--->  SCARPA  <---\n"
     ]
    }
   ],
   "source": [
    "print(f'The given words are: {input_words}')\n",
    "\n",
    "cand_words = check_dataset(path, input_words)\n",
    "\n",
    "c = Counter()\n",
    "most_common = []\n",
    "for word in cand_words:\n",
    "    c.update(word)\n",
    "    \n",
    "answer = c.most_common(1)[0][0].upper()\n",
    "\n",
    "print(\"\\nInserisci la risposta\\n\")\n",
    "\n",
    "u_answ = input().upper()\n",
    "\n",
    "if(u_answ == answer):\n",
    "    print(\"Complimenti! La parola \", answer, \" è la parola coretta!!\")\n",
    "else:\n",
    "    print(f\"Purtroppo la tua risposta non è corretta. \\n\\nLa sesta parola è\")\n",
    "    sleep(1)\n",
    "    print(\"\\n... (suspense) ... \\n\")\n",
    "    sleep(1)\n",
    "    print(\"---> \", answer, \" <---\")"
   ]
  }
 ],
 "metadata": {
  "kernelspec": {
   "display_name": "Python 3.10.4 ('venvdicaro': venv)",
   "language": "python",
   "name": "python3"
  },
  "language_info": {
   "codemirror_mode": {
    "name": "ipython",
    "version": 3
   },
   "file_extension": ".py",
   "mimetype": "text/x-python",
   "name": "python",
   "nbconvert_exporter": "python",
   "pygments_lexer": "ipython3",
   "version": "3.10.4"
  },
  "orig_nbformat": 4,
  "vscode": {
   "interpreter": {
    "hash": "3fc711e4ee2b6550a1e55fb58a23702f691a325dedbbea2e10fa55c056de4b98"
   }
  }
 },
 "nbformat": 4,
 "nbformat_minor": 2
}
