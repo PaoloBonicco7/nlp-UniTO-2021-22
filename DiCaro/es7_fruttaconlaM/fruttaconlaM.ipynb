{
 "cells": [
  {
   "cell_type": "markdown",
   "metadata": {},
   "source": [
    "# Esercizio 7 - Frutta con la M"
   ]
  },
  {
   "cell_type": "markdown",
   "metadata": {},
   "source": [
    "In questo esercizio il sistema estrarrà una lettera a caso e chiederà all'utente di inserire un frutto con la lettera scelta, il \n",
    "frutto deve essere inserito in lingua inglese siccome usiamo wordnet per il controllo.\n",
    "\n",
    "Abbiamo gestito l'esercizio come un gioco in cui l'utente deve battere la macchina che lo interroga."
   ]
  },
  {
   "cell_type": "markdown",
   "metadata": {},
   "source": [
    "### Approccio"
   ]
  },
  {
   "cell_type": "markdown",
   "metadata": {},
   "source": [
    "Il problema di questo esercizio è far capire al sistema quando l'input è un frutto. Per risolvere questo problema ci siamo serviti di wordnet\n",
    "che però è strutturato in modo che non tutti i frutti abbiamo come iperonimo diretto il synset *fruit*.\n",
    "\n",
    "Un altro assunto molto importante da fare è che, in wordnet, tutti i frutti hanno come iperonimo *fruit*, ma non tutti gli iponimi di\n",
    "fruit sono frutti.\n",
    "\n",
    "Per guidare wordnet nella ricerca gli passiamo una lista di parole, in questo caso una lista di frutti. Dopo di che andiamo a ricercare\n",
    "il synset di ogni parola e dopo di che gli iperonimi diretti. In questo modo riusciamo ad escludere alcuni iponimi di *fruit* dalla ricerca.\n",
    "\n",
    "Dopo aver trovato gli iperonimi di partenza, andiamo a ricavare tutti i loro iponimi, e così facendo abbiamo la nostra lista di frutti.\n",
    "\n",
    "Il problema è che in questo modo catturiamo anche delle categorie che non sono dei frutti, come ad esempio le piante. Per \n",
    "risolvere questo problema, una volta trovata la lista di synset (lista di iponimi degli iperonimi delle parole di partenza),\n",
    "andiamo a rimuovere tutti i synset che non hanno come iperonimo *fruit*.\n",
    "\n",
    "Il nostro sistema è stato studiato solo per riconoscere i frutti, ma il nostro approccio, con qualche piccola modifica, è possibilmente \n",
    "estendibile ad altre categorie."
   ]
  },
  {
   "cell_type": "markdown",
   "metadata": {},
   "source": [
    "### Imports and constant"
   ]
  },
  {
   "cell_type": "code",
   "execution_count": 1,
   "metadata": {},
   "outputs": [],
   "source": [
    "from nltk.corpus import wordnet as wn\n",
    "from pprint import pprint\n",
    "import time\n",
    "import string\n",
    "import random"
   ]
  },
  {
   "cell_type": "markdown",
   "metadata": {},
   "source": [
    "Questa lista rappresenta la nostra memoria, il nostro sistema andrà a cercare il synset di riferimento in wordnet basandosi sui\n",
    "dati passati in input."
   ]
  },
  {
   "cell_type": "code",
   "execution_count": 2,
   "metadata": {},
   "outputs": [],
   "source": [
    "CATEGORIES = [\"FRUIT\", \"cranberry\", \"apple\", \"peanut\", \"orange\"]"
   ]
  },
  {
   "cell_type": "markdown",
   "metadata": {},
   "source": [
    "### Methods"
   ]
  },
  {
   "cell_type": "code",
   "execution_count": 31,
   "metadata": {},
   "outputs": [],
   "source": [
    "def get_synset(word):\n",
    "    '''\n",
    "    Retrurn the first synset of a word.\n",
    "    '''\n",
    "    if(len(wn.synsets(word)) > 0):\n",
    "        return wn.synsets(word)[0]\n",
    "    return None\n",
    "\n",
    "def get_hypers(word):\n",
    "    '''\n",
    "    Return the direct hypernyms of a word.\n",
    "    '''\n",
    "    syn = get_synset(word)\n",
    "    hypers = []\n",
    "    if(syn is not None):\n",
    "        hypers = syn.hypernyms()\n",
    "    return hypers\n",
    "\n",
    "def get_all_hypers(word):\n",
    "    '''\n",
    "    Return the direct hypernyms of a word.\n",
    "    '''\n",
    "    syn = get_synset(word)\n",
    "    hypo_list = []\n",
    "    while(syn.hypernyms() != []):\n",
    "        hypo_list.append(syn.hypernyms()[0])\n",
    "        syn = syn.hypernyms()[0]\n",
    "        \n",
    "        \n",
    "def get_words_cat_hypers(category):\n",
    "    hypers = []\n",
    "    for word in category[1:]:\n",
    "        hypers.append(get_hypers(word))\n",
    "        \n",
    "    hypers = [x for xs in hypers for x in xs] # list of list to list\n",
    "    return hypers\n",
    "\n",
    "def get_hypos(syn):\n",
    "    '''\n",
    "    Return all the hyponyms of a word.\n",
    "    '''\n",
    "    hypo_list = []\n",
    "    if(syn is not None):\n",
    "        hypo_list = list(set([get_synset(w) for s in syn.closure(lambda s:s.hyponyms()) for w in s.lemma_names()]))\n",
    "    return hypo_list\n",
    "\n",
    "def get_all_hypos(syns):\n",
    "    '''\n",
    "    Given a list of synsets return one list of all hypos of each synsets\n",
    "    '''\n",
    "    hypo_list = []\n",
    "    for syn in syns:\n",
    "        hypo_list.append(get_hypos(syn))\n",
    "    return hypo_list\n",
    "\n",
    "def clean_response(syns):\n",
    "    for syn in syns:\n",
    "        lch = wn.synset('fruit.n.01').lowest_common_hypernyms(syn)\n",
    "        fruit = wn.synset('fruit.n.01')\n",
    "        if(lch[0] != fruit):\n",
    "            syns.remove(syn)\n",
    "    return syns\n",
    "\n",
    "def check_response(response, user_response, letter):\n",
    "    '''\n",
    "    Check if the users response start with the right letter and it's a fruit\n",
    "    '''\n",
    "    ok_answer = []\n",
    "    for el in response:\n",
    "        lemma = el.lemma_names()[0]\n",
    "        if(lemma[0] == letter):\n",
    "            ok_answer.append(lemma)\n",
    "        \n",
    "    if user_response.lower() in ok_answer:\n",
    "        return True\n",
    "    return False\n",
    "\n",
    "def pick_word(syns, letter):\n",
    "    '''\n",
    "    Return a word (fruit) that start with the right letter\n",
    "    '''\n",
    "    answer = \"1\"\n",
    "    while answer[0] != letter:\n",
    "        answer = random.choice(syns).lemma_names()[0]\n",
    "    return answer\n"
   ]
  },
  {
   "cell_type": "markdown",
   "metadata": {},
   "source": [
    "### Main"
   ]
  },
  {
   "cell_type": "code",
   "execution_count": 33,
   "metadata": {},
   "outputs": [
    {
     "name": "stdout",
     "output_type": "stream",
     "text": [
      "Welcome to the Game!\n",
      "Tell me a fruit starting with letter ... Y\n",
      "1150\n",
      "629\n",
      "\n",
      "Wrong Answer! \n",
      "\n",
      "You could say:  yellow_honeysuckle\n"
     ]
    }
   ],
   "source": [
    "def game():\n",
    "    print(\"Welcome to the Game!\")\n",
    "\n",
    "    letter = random.choice(string.ascii_letters).lower()\n",
    "    \n",
    "    # letter = \"o\"\n",
    "    \n",
    "    print(\"Tell me a fruit starting with letter ...\", letter.capitalize())\n",
    "\n",
    "    user_response = input()\n",
    "    \n",
    "    hyper_list = get_words_cat_hypers(CATEGORIES)\n",
    "    \n",
    "    right_syn = get_all_hypos(hyper_list)\n",
    "    right_syn = [x for xs in right_syn for x in xs] # list of list to list\n",
    "    \n",
    "    # Remove all the synset that are not hypos of fruit\n",
    "    print(len(right_syn))\n",
    "    right_syn = clean_response(right_syn)\n",
    "    print(len(right_syn))\n",
    "    \n",
    "    if(check_response(right_syn, user_response, letter)):\n",
    "        print(\"Good Job! The answer\", user_response, \"is correct!\")\n",
    "    else:\n",
    "        print(\"\\nWrong Answer!\", \"\\n\\nYou could say: \", pick_word(right_syn, letter))\n",
    "\n",
    "game()"
   ]
  },
  {
   "cell_type": "markdown",
   "metadata": {},
   "source": [
    "### Analisi dei risultati e limiti del sistema"
   ]
  },
  {
   "cell_type": "markdown",
   "metadata": {},
   "source": [
    "In questo esercizio più che negli altri abbiamo potuto toccare con mano quanto wordnet sia imprevedibile. E' indubbiamente una risorsa\n",
    "molto potente, ma spesso va fatto un po' di filtraggio dei risultati ottenuti.\n",
    "\n",
    "Idealmente in questo esercizio sarebbe bastato contollare se la parola passata in input era un iponimo di *fruit*. Questo non è stato possibile\n",
    "siccome *fruit* ha tantissimi iponimi, e solo una parte sono frutti intesi come li intendiamo noi, infatti come iponimi ci sono anche collegamenti\n",
    "ad altre categorie, come al mondo delle piante ad esempio.\n",
    "\n",
    "In precendenza abbiamo detto che questo approccio è applicabile anche ad altre categoria, che in parte è vero. Però richiede una parte\n",
    "di analisi di wordnet e di come è rappresentata quella determinata categoria in wordnet.\n",
    "\n",
    "In definitiva possiamo però dire che il nostro sistema, quindi wordnet, è molto abile in questo gioco siccome riesce a trovare\n",
    "anche i frutti più improbabili, sintomo del fatto che wordnet sia una risorsa molto completa a livello di termini."
   ]
  }
 ],
 "metadata": {
  "kernelspec": {
   "display_name": "Python 3.10.4 ('venvdicaro': venv)",
   "language": "python",
   "name": "python3"
  },
  "language_info": {
   "codemirror_mode": {
    "name": "ipython",
    "version": 3
   },
   "file_extension": ".py",
   "mimetype": "text/x-python",
   "name": "python",
   "nbconvert_exporter": "python",
   "pygments_lexer": "ipython3",
   "version": "3.10.4"
  },
  "orig_nbformat": 4,
  "vscode": {
   "interpreter": {
    "hash": "3fc711e4ee2b6550a1e55fb58a23702f691a325dedbbea2e10fa55c056de4b98"
   }
  }
 },
 "nbformat": 4,
 "nbformat_minor": 2
}
