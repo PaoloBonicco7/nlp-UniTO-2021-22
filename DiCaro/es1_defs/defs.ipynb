{
 "cells": [
  {
   "cell_type": "markdown",
   "metadata": {},
   "source": [
    "# Esercizio 1 - Definizioni"
   ]
  },
  {
   "cell_type": "markdown",
   "metadata": {},
   "source": [
    "In questo esercizio calcoliamo i valori di similarità tra le definizioni date da noi per 4 termini.\n",
    "Lo scopo dell'esercizio è provare che dare una definizione di un termine è più complicato di quanto si possa pensare, \n",
    "specialmente se il termine è di natura astratta e/o generico.\n",
    "Una prova di questo fatto è subito osservabile dando un veloce sguardo alle definizioni, dove si può notare come siano\n",
    "parecchio diverse tra di loro.\n",
    "\n",
    "I termini utilizzati per l'esperimento sono:\n",
    "\n",
    "- Emotion\n",
    "  \n",
    "- Person\n",
    "- Revenge\n",
    "- Brick"
   ]
  },
  {
   "cell_type": "markdown",
   "metadata": {},
   "source": [
    "### Import and constant"
   ]
  },
  {
   "cell_type": "code",
   "execution_count": 1,
   "metadata": {},
   "outputs": [],
   "source": [
    "from collections import Counter\n",
    "from nltk.stem import WordNetLemmatizer"
   ]
  },
  {
   "cell_type": "markdown",
   "metadata": {},
   "source": [
    "Lista di stop words, utilizzata per ripulire il testo dalle parole poco rillevanti per determinare il significato. Abbiamo utilizzato questa lista di stopword che è composta da la lista base \n",
    "di nltk + alcune parole aggiunte da noi, molto frequenti nelle descrizioni ma prive di significato ai nostri scopi."
   ]
  },
  {
   "cell_type": "code",
   "execution_count": 2,
   "metadata": {},
   "outputs": [],
   "source": [
    "STOP_WORDS = ['on','of','a', 'most', 'be', 'did', \"mightn't\", 'or', 'the', 'does', \"it's\", 'ourselves', 'if', 'few', 'above', 've', 'ours', \n",
    "'your', 'some', 'own', 't', 'yours', 'couldn', \"you'll\", 'both', \"wouldn't\", 'once', 'off', 'doesn', 'through', 'their', \n",
    "'themselves', 'until', 'isn', 'do', \"hadn't\", 'have', 'from', 'needn', 'hers', 'has', 'between', 'not', 'ain', 'they', 'after', 'out', \n",
    "'then', 'while', \"shouldn't\", 'mightn', 'against', \"should've\", \"couldn't\", 'she', 'but', 'as', 'below', 'over', 'each', 'hadn', 'when', \n",
    "'of', 'there', 'hasn', 'before', 'aren', 'only', 'them', 'is', 'will', 'yourself', 'so', 're', 'very', \"you'd\", 'all', 'nor', 'o', 'haven', \n",
    "'had', 'that', 'doing', 'just', 'no', 'and', \"needn't\", 'was', \"didn't\", 'a', 'weren', 'why', 'an', \"mustn't\", \"isn't\", 'wouldn', 'whom', \n",
    "'too', \"that'll\", 'should', 'himself', 'about', 'which', 'under', \"don't\", 'y', \"hasn't\", 'been', 'his', 'here', 'further', \"doesn't\", \n",
    "'same', 'how', 'we', 'than', 'ma', 'who', 'herself', 'theirs', 'were', 'any', 'wasn', \"haven't\", 'having', 'it', 'yourselves', 'more', \n",
    "'won', 'those', 'by', 'now', 'd', 'where', 'me', 'him', 'again', 's', 'are', 'shouldn', \"weren't\", \"wasn't\", 'for', 'what', \"she's\", 'll', \n",
    "\"won't\", 'this', 'because', 'm', 'you', 'shan', 'up', 'can', 'her', 'itself', 'i', \"you're\", 'in', 'myself', 'its', 'mustn', 'don', 'these', \n",
    "'such', 'down', 'our', 'into', \"shan't\", 'didn', 'am', 'he', 'to', 'my', \"aren't\", 'other', \"you've\", 'at', 'during', 'with', 'someone']\n"
   ]
  },
  {
   "cell_type": "markdown",
   "metadata": {},
   "source": [
    "### Functions"
   ]
  },
  {
   "cell_type": "markdown",
   "metadata": {},
   "source": [
    "Rimuove le stop words dal testo"
   ]
  },
  {
   "cell_type": "code",
   "execution_count": 3,
   "metadata": {},
   "outputs": [],
   "source": [
    "def remove_stop_words(text):\n",
    "    result = []\n",
    "    for word in text:\n",
    "        if word.lower() not in STOP_WORDS:\n",
    "            result.append(word.lower())\n",
    "    return result"
   ]
  },
  {
   "cell_type": "markdown",
   "metadata": {},
   "source": [
    "Sostituisce le parole con il loro lemma, basato su WordNet"
   ]
  },
  {
   "cell_type": "code",
   "execution_count": 4,
   "metadata": {},
   "outputs": [],
   "source": [
    "def lemmatize_words(text):\n",
    "    result = []\n",
    "    lemmatizer = WordNetLemmatizer()\n",
    "    for word in text:\n",
    "        result.append(lemmatizer.lemmatize(word))\n",
    "    return result"
   ]
  },
  {
   "cell_type": "markdown",
   "metadata": {},
   "source": [
    "Organizziamo i dati (definizioni) in una matrice di stringhe, ogni riga contiene il termine di riferimento seguito dalle\n",
    "definizioni date. La matrice ha 4 righe, una per ogni definizione."
   ]
  },
  {
   "cell_type": "code",
   "execution_count": 5,
   "metadata": {},
   "outputs": [],
   "source": [
    "list = open(\"../data/def.csv\").readlines() # Save the definitions in a list, splitting by coma\n",
    "\n",
    "data = []\n",
    "# Save the data in a matrix of 4 row\n",
    "for l in list:\n",
    "    data.append(l.strip(\"\\n\").split(\",\"))"
   ]
  },
  {
   "cell_type": "markdown",
   "metadata": {},
   "source": [
    "Dopo aver ripulito il testo da stopwords e dopo aver sostituito le parole con il loro lemma, andiamo a salvare i \n",
    "termini all'interno di una struttura *Counter*. Questo tipo di struttura ci permette di salvare le parole uniche all'interno \n",
    "delle definizioni e di contare quante volte ogni parola è presente. Otteniamo quindi, per ogni termine, una lista di parole\n",
    "con associato un numero che corrisponde al numero di volte in cui quel termine è comparso nelle definizioni.\n",
    "\n",
    "Per calcolare la similarità abbiamo preso le 3 parole più frequenti nelle definizioni e abbiamo calcolato la media con cui\n",
    "compaiono, dividendo il numero di volte in cui compare per il totale delle frasi.\n",
    "Dopo di che sommiamo tra di loro le 3 medie ottenute e dividiamo per 3, per ottenere la media totale."
   ]
  },
  {
   "cell_type": "code",
   "execution_count": 8,
   "metadata": {},
   "outputs": [
    {
     "name": "stdout",
     "output_type": "stream",
     "text": [
      "Parole più frequenti per Emotion: [('feeling', 11), ('human', 8), ('feel', 8)]\n",
      "Punteggio finale per Emotion: 0.25\n",
      "\n",
      "Parole più frequenti per Person: [('human', 26), ('being', 21), ('homo', 5)]\n",
      "Punteggio finale per Person: 0.43\n",
      "\n",
      "Parole più frequenti per Revenge: [('feeling', 7), ('anger', 7), ('action', 6)]\n",
      "Punteggio finale per Revenge: 0.19\n",
      "\n",
      "Parole più frequenti per Brick: [('used', 22), ('object', 15), ('construction', 15)]\n",
      "Punteggio finale per Brick: 0.51\n",
      "\n"
     ]
    }
   ],
   "source": [
    "for l in data:\n",
    "    main_concept = l[0] # Save the term, which is in the first position of the list\n",
    "    counter_concept = Counter()\n",
    "    \n",
    "    # Clean the definition by removing the stop word and lemmatizing the word\n",
    "    # and save the resul in a counter structure\n",
    "    for definition in l[1:]:\n",
    "        statement = remove_stop_words(definition.split())\n",
    "        statement = lemmatize_words(statement)\n",
    "        counter_concept.update(statement)\n",
    "\n",
    "    # Save the 3 most commond words in the definition\n",
    "    first,second,third = counter_concept.most_common(3)\n",
    "    \n",
    "    # uncomment the following line to print the most common words\n",
    "    print(f\"Parole più frequenti per {main_concept}: {counter_concept.most_common(3)}\")\n",
    "\n",
    "    results = {first[0]:0, second[0]:0, third[0]:0}\n",
    "    n_statement = 0\n",
    "\n",
    "    for definition in l[1:]:\n",
    "        if first[0] in definition.split():\n",
    "            results[first[0]] += 1\n",
    "        if second[0] in definition.split():\n",
    "            results[second[0]] += 1\n",
    "        if third[0] in definition.split():\n",
    "            results[third[0]] += 1\n",
    "        n_statement += 1\n",
    "        \n",
    "    #* EVALUATION\n",
    "    mean = 0.0\n",
    "    \n",
    "    # Calculate the mean of the 3 most common words\n",
    "    for element in results.keys():\n",
    "        mean += results[element]/n_statement\n",
    "    print(f\"Punteggio finale per {main_concept}: {round(mean/3, 2)}\\n\")\n",
    "\n"
   ]
  },
  {
   "cell_type": "markdown",
   "metadata": {},
   "source": [
    "## Analisi risultati"
   ]
  },
  {
   "cell_type": "markdown",
   "metadata": {},
   "source": [
    "I risultati mostrano quello che ci aspettavamo, cioè che dare definizioni per i termini è più complicato di quanto possiamo pensare.\n",
    "Infatti per *brick* abbiamo una similarità del *50%* che è decisamente bassa, e la situazione peggiora per il termine più generico\n",
    "*person*. \n",
    "Per *emotion* e *revenge* abbiamo una similarità ancora più bassa siccome sono termini più astratti rispetto\n",
    "ai precedenti.\n",
    "\n",
    "In generale dovrebbe essere più semplice dare definizioni per i termini più concreti e meno generici, che in questo caso corrisponde\n",
    "a *brick*, ed infatti i nostri risultati, almeno per quanto rigurda *brick*, coincidono con questo assunto.\n",
    "\n",
    "Ci seremmo aspettati dei risultati leggermente diversi per quanto riguarda gli altri termini, nello specifico ci saremmo aspettati una\n",
    "similarità decrescente per quanto riguarda i termini *person*, *revenge* ed *emotion* in questo ordine.\n",
    "Vediamo di analizzare le ragioni per cui questo non è accaduto:\n",
    "\n",
    "- **Criterio di similarità utilizzato**: Abbiamo volutamente utilizzato una funzione di similarità costruita da noi che si basa\n",
    "  semplicemente sul conteggio delle parole comuni nelle definizioni. Funzioni di similarita più accurate, come la cosine similarity, \n",
    "  avrebbero prodotto risultati diversi.\n",
    "\n",
    "- **Dataset utilizzato**: Il dataset utilizzato, fatto da noi studenti del corso, è troppo piccolo per permettere di trarre dei risultati \n",
    "  accurati, probabilmente se avessimo avuto a disposizione più definizioni avremmo potuto ottenere un risultato più accurato."
   ]
  }
 ],
 "metadata": {
  "kernelspec": {
   "display_name": "Python 3.9.12 64-bit",
   "language": "python",
   "name": "python3"
  },
  "language_info": {
   "codemirror_mode": {
    "name": "ipython",
    "version": 3
   },
   "file_extension": ".py",
   "mimetype": "text/x-python",
   "name": "python",
   "nbconvert_exporter": "python",
   "pygments_lexer": "ipython3",
   "version": "3.9.12"
  },
  "orig_nbformat": 4,
  "vscode": {
   "interpreter": {
    "hash": "b0fa6594d8f4cbf19f97940f81e996739fb7646882a419484c72d19e05852a7e"
   }
  }
 },
 "nbformat": 4,
 "nbformat_minor": 2
}
